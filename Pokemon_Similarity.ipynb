{
  "nbformat": 4,
  "nbformat_minor": 0,
  "metadata": {
    "colab": {
      "provenance": []
    },
    "kernelspec": {
      "name": "python3",
      "display_name": "Python 3"
    },
    "language_info": {
      "name": "python"
    },
    "widgets": {
      "application/vnd.jupyter.widget-state+json": {
        "084b277565c845d9ad0607586ee14ec0": {
          "model_module": "@jupyter-widgets/controls",
          "model_name": "TextModel",
          "model_module_version": "1.5.0",
          "state": {
            "_dom_classes": [],
            "_model_module": "@jupyter-widgets/controls",
            "_model_module_version": "1.5.0",
            "_model_name": "TextModel",
            "_view_count": null,
            "_view_module": "@jupyter-widgets/controls",
            "_view_module_version": "1.5.0",
            "_view_name": "TextView",
            "continuous_update": true,
            "description": "Enter Pokemon Name:",
            "description_tooltip": null,
            "disabled": false,
            "layout": "IPY_MODEL_61888d8f70c44b90a7e64efe82c56317",
            "placeholder": "​",
            "style": "IPY_MODEL_8e0c0359711a4f379027c404d8e0f159",
            "value": "sylveON"
          }
        },
        "61888d8f70c44b90a7e64efe82c56317": {
          "model_module": "@jupyter-widgets/base",
          "model_name": "LayoutModel",
          "model_module_version": "1.2.0",
          "state": {
            "_model_module": "@jupyter-widgets/base",
            "_model_module_version": "1.2.0",
            "_model_name": "LayoutModel",
            "_view_count": null,
            "_view_module": "@jupyter-widgets/base",
            "_view_module_version": "1.2.0",
            "_view_name": "LayoutView",
            "align_content": null,
            "align_items": null,
            "align_self": null,
            "border": null,
            "bottom": null,
            "display": null,
            "flex": null,
            "flex_flow": null,
            "grid_area": null,
            "grid_auto_columns": null,
            "grid_auto_flow": null,
            "grid_auto_rows": null,
            "grid_column": null,
            "grid_gap": null,
            "grid_row": null,
            "grid_template_areas": null,
            "grid_template_columns": null,
            "grid_template_rows": null,
            "height": null,
            "justify_content": null,
            "justify_items": null,
            "left": null,
            "margin": null,
            "max_height": null,
            "max_width": null,
            "min_height": null,
            "min_width": null,
            "object_fit": null,
            "object_position": null,
            "order": null,
            "overflow": null,
            "overflow_x": null,
            "overflow_y": null,
            "padding": null,
            "right": null,
            "top": null,
            "visibility": null,
            "width": null
          }
        },
        "8e0c0359711a4f379027c404d8e0f159": {
          "model_module": "@jupyter-widgets/controls",
          "model_name": "DescriptionStyleModel",
          "model_module_version": "1.5.0",
          "state": {
            "_model_module": "@jupyter-widgets/controls",
            "_model_module_version": "1.5.0",
            "_model_name": "DescriptionStyleModel",
            "_view_count": null,
            "_view_module": "@jupyter-widgets/base",
            "_view_module_version": "1.2.0",
            "_view_name": "StyleView",
            "description_width": "initial"
          }
        },
        "936f835a2de649a6ada5808c706512cf": {
          "model_module": "@jupyter-widgets/controls",
          "model_name": "ButtonModel",
          "model_module_version": "1.5.0",
          "state": {
            "_dom_classes": [],
            "_model_module": "@jupyter-widgets/controls",
            "_model_module_version": "1.5.0",
            "_model_name": "ButtonModel",
            "_view_count": null,
            "_view_module": "@jupyter-widgets/controls",
            "_view_module_version": "1.5.0",
            "_view_name": "ButtonView",
            "button_style": "",
            "description": "Submit Name",
            "disabled": false,
            "icon": "",
            "layout": "IPY_MODEL_adf6a9ba6dde47fda2882c11796935cf",
            "style": "IPY_MODEL_4d7220536ca44bd3bfc09e43a1ffc559",
            "tooltip": ""
          }
        },
        "adf6a9ba6dde47fda2882c11796935cf": {
          "model_module": "@jupyter-widgets/base",
          "model_name": "LayoutModel",
          "model_module_version": "1.2.0",
          "state": {
            "_model_module": "@jupyter-widgets/base",
            "_model_module_version": "1.2.0",
            "_model_name": "LayoutModel",
            "_view_count": null,
            "_view_module": "@jupyter-widgets/base",
            "_view_module_version": "1.2.0",
            "_view_name": "LayoutView",
            "align_content": null,
            "align_items": null,
            "align_self": null,
            "border": null,
            "bottom": null,
            "display": null,
            "flex": null,
            "flex_flow": null,
            "grid_area": null,
            "grid_auto_columns": null,
            "grid_auto_flow": null,
            "grid_auto_rows": null,
            "grid_column": null,
            "grid_gap": null,
            "grid_row": null,
            "grid_template_areas": null,
            "grid_template_columns": null,
            "grid_template_rows": null,
            "height": null,
            "justify_content": null,
            "justify_items": null,
            "left": null,
            "margin": null,
            "max_height": null,
            "max_width": null,
            "min_height": null,
            "min_width": null,
            "object_fit": null,
            "object_position": null,
            "order": null,
            "overflow": null,
            "overflow_x": null,
            "overflow_y": null,
            "padding": null,
            "right": null,
            "top": null,
            "visibility": null,
            "width": null
          }
        },
        "4d7220536ca44bd3bfc09e43a1ffc559": {
          "model_module": "@jupyter-widgets/controls",
          "model_name": "ButtonStyleModel",
          "model_module_version": "1.5.0",
          "state": {
            "_model_module": "@jupyter-widgets/controls",
            "_model_module_version": "1.5.0",
            "_model_name": "ButtonStyleModel",
            "_view_count": null,
            "_view_module": "@jupyter-widgets/base",
            "_view_module_version": "1.2.0",
            "_view_name": "StyleView",
            "button_color": null,
            "font_weight": ""
          }
        },
        "6ee12b32a1c545738cd49e65acc2a90c": {
          "model_module": "@jupyter-widgets/controls",
          "model_name": "IntTextModel",
          "model_module_version": "1.5.0",
          "state": {
            "_dom_classes": [],
            "_model_module": "@jupyter-widgets/controls",
            "_model_module_version": "1.5.0",
            "_model_name": "IntTextModel",
            "_view_count": null,
            "_view_module": "@jupyter-widgets/controls",
            "_view_module_version": "1.5.0",
            "_view_name": "IntTextView",
            "continuous_update": false,
            "description": "HP:",
            "description_tooltip": null,
            "disabled": false,
            "layout": "IPY_MODEL_25d1b9b7b011480db40f77a2539bc678",
            "step": 1,
            "style": "IPY_MODEL_a3056ce96d4d49cbb5c5d6fc34fdb18d",
            "value": 100
          }
        },
        "25d1b9b7b011480db40f77a2539bc678": {
          "model_module": "@jupyter-widgets/base",
          "model_name": "LayoutModel",
          "model_module_version": "1.2.0",
          "state": {
            "_model_module": "@jupyter-widgets/base",
            "_model_module_version": "1.2.0",
            "_model_name": "LayoutModel",
            "_view_count": null,
            "_view_module": "@jupyter-widgets/base",
            "_view_module_version": "1.2.0",
            "_view_name": "LayoutView",
            "align_content": null,
            "align_items": null,
            "align_self": null,
            "border": null,
            "bottom": null,
            "display": null,
            "flex": null,
            "flex_flow": null,
            "grid_area": null,
            "grid_auto_columns": null,
            "grid_auto_flow": null,
            "grid_auto_rows": null,
            "grid_column": null,
            "grid_gap": null,
            "grid_row": null,
            "grid_template_areas": null,
            "grid_template_columns": null,
            "grid_template_rows": null,
            "height": null,
            "justify_content": null,
            "justify_items": null,
            "left": null,
            "margin": null,
            "max_height": null,
            "max_width": null,
            "min_height": null,
            "min_width": null,
            "object_fit": null,
            "object_position": null,
            "order": null,
            "overflow": null,
            "overflow_x": null,
            "overflow_y": null,
            "padding": null,
            "right": null,
            "top": null,
            "visibility": null,
            "width": null
          }
        },
        "a3056ce96d4d49cbb5c5d6fc34fdb18d": {
          "model_module": "@jupyter-widgets/controls",
          "model_name": "DescriptionStyleModel",
          "model_module_version": "1.5.0",
          "state": {
            "_model_module": "@jupyter-widgets/controls",
            "_model_module_version": "1.5.0",
            "_model_name": "DescriptionStyleModel",
            "_view_count": null,
            "_view_module": "@jupyter-widgets/base",
            "_view_module_version": "1.2.0",
            "_view_name": "StyleView",
            "description_width": "initial"
          }
        },
        "61a5813bd16b41afa817cc135cd4cc01": {
          "model_module": "@jupyter-widgets/controls",
          "model_name": "IntTextModel",
          "model_module_version": "1.5.0",
          "state": {
            "_dom_classes": [],
            "_model_module": "@jupyter-widgets/controls",
            "_model_module_version": "1.5.0",
            "_model_name": "IntTextModel",
            "_view_count": null,
            "_view_module": "@jupyter-widgets/controls",
            "_view_module_version": "1.5.0",
            "_view_name": "IntTextView",
            "continuous_update": false,
            "description": "Attack:",
            "description_tooltip": null,
            "disabled": false,
            "layout": "IPY_MODEL_5e5bf913b7c04e68b380b88f68587614",
            "step": 1,
            "style": "IPY_MODEL_d0ab2a5b1c0546ac8d6eda56b5eb1769",
            "value": 100
          }
        },
        "5e5bf913b7c04e68b380b88f68587614": {
          "model_module": "@jupyter-widgets/base",
          "model_name": "LayoutModel",
          "model_module_version": "1.2.0",
          "state": {
            "_model_module": "@jupyter-widgets/base",
            "_model_module_version": "1.2.0",
            "_model_name": "LayoutModel",
            "_view_count": null,
            "_view_module": "@jupyter-widgets/base",
            "_view_module_version": "1.2.0",
            "_view_name": "LayoutView",
            "align_content": null,
            "align_items": null,
            "align_self": null,
            "border": null,
            "bottom": null,
            "display": null,
            "flex": null,
            "flex_flow": null,
            "grid_area": null,
            "grid_auto_columns": null,
            "grid_auto_flow": null,
            "grid_auto_rows": null,
            "grid_column": null,
            "grid_gap": null,
            "grid_row": null,
            "grid_template_areas": null,
            "grid_template_columns": null,
            "grid_template_rows": null,
            "height": null,
            "justify_content": null,
            "justify_items": null,
            "left": null,
            "margin": null,
            "max_height": null,
            "max_width": null,
            "min_height": null,
            "min_width": null,
            "object_fit": null,
            "object_position": null,
            "order": null,
            "overflow": null,
            "overflow_x": null,
            "overflow_y": null,
            "padding": null,
            "right": null,
            "top": null,
            "visibility": null,
            "width": null
          }
        },
        "d0ab2a5b1c0546ac8d6eda56b5eb1769": {
          "model_module": "@jupyter-widgets/controls",
          "model_name": "DescriptionStyleModel",
          "model_module_version": "1.5.0",
          "state": {
            "_model_module": "@jupyter-widgets/controls",
            "_model_module_version": "1.5.0",
            "_model_name": "DescriptionStyleModel",
            "_view_count": null,
            "_view_module": "@jupyter-widgets/base",
            "_view_module_version": "1.2.0",
            "_view_name": "StyleView",
            "description_width": "initial"
          }
        },
        "a63d345825a64e43b691f1d3127d8f1c": {
          "model_module": "@jupyter-widgets/controls",
          "model_name": "IntTextModel",
          "model_module_version": "1.5.0",
          "state": {
            "_dom_classes": [],
            "_model_module": "@jupyter-widgets/controls",
            "_model_module_version": "1.5.0",
            "_model_name": "IntTextModel",
            "_view_count": null,
            "_view_module": "@jupyter-widgets/controls",
            "_view_module_version": "1.5.0",
            "_view_name": "IntTextView",
            "continuous_update": false,
            "description": "Defense:",
            "description_tooltip": null,
            "disabled": false,
            "layout": "IPY_MODEL_fa21e029348f479f87e0afaa5e918d57",
            "step": 1,
            "style": "IPY_MODEL_747c586d62d247a29f4a03845a96c088",
            "value": 100
          }
        },
        "fa21e029348f479f87e0afaa5e918d57": {
          "model_module": "@jupyter-widgets/base",
          "model_name": "LayoutModel",
          "model_module_version": "1.2.0",
          "state": {
            "_model_module": "@jupyter-widgets/base",
            "_model_module_version": "1.2.0",
            "_model_name": "LayoutModel",
            "_view_count": null,
            "_view_module": "@jupyter-widgets/base",
            "_view_module_version": "1.2.0",
            "_view_name": "LayoutView",
            "align_content": null,
            "align_items": null,
            "align_self": null,
            "border": null,
            "bottom": null,
            "display": null,
            "flex": null,
            "flex_flow": null,
            "grid_area": null,
            "grid_auto_columns": null,
            "grid_auto_flow": null,
            "grid_auto_rows": null,
            "grid_column": null,
            "grid_gap": null,
            "grid_row": null,
            "grid_template_areas": null,
            "grid_template_columns": null,
            "grid_template_rows": null,
            "height": null,
            "justify_content": null,
            "justify_items": null,
            "left": null,
            "margin": null,
            "max_height": null,
            "max_width": null,
            "min_height": null,
            "min_width": null,
            "object_fit": null,
            "object_position": null,
            "order": null,
            "overflow": null,
            "overflow_x": null,
            "overflow_y": null,
            "padding": null,
            "right": null,
            "top": null,
            "visibility": null,
            "width": null
          }
        },
        "747c586d62d247a29f4a03845a96c088": {
          "model_module": "@jupyter-widgets/controls",
          "model_name": "DescriptionStyleModel",
          "model_module_version": "1.5.0",
          "state": {
            "_model_module": "@jupyter-widgets/controls",
            "_model_module_version": "1.5.0",
            "_model_name": "DescriptionStyleModel",
            "_view_count": null,
            "_view_module": "@jupyter-widgets/base",
            "_view_module_version": "1.2.0",
            "_view_name": "StyleView",
            "description_width": "initial"
          }
        },
        "40954f11ee2242fdbca53bb384fe9e7d": {
          "model_module": "@jupyter-widgets/controls",
          "model_name": "IntTextModel",
          "model_module_version": "1.5.0",
          "state": {
            "_dom_classes": [],
            "_model_module": "@jupyter-widgets/controls",
            "_model_module_version": "1.5.0",
            "_model_name": "IntTextModel",
            "_view_count": null,
            "_view_module": "@jupyter-widgets/controls",
            "_view_module_version": "1.5.0",
            "_view_name": "IntTextView",
            "continuous_update": false,
            "description": "Sp. Attack:",
            "description_tooltip": null,
            "disabled": false,
            "layout": "IPY_MODEL_8ba0e18241ed407281123e4960fb999b",
            "step": 1,
            "style": "IPY_MODEL_65a8410b452647f2bcbee7daf2137940",
            "value": 100
          }
        },
        "8ba0e18241ed407281123e4960fb999b": {
          "model_module": "@jupyter-widgets/base",
          "model_name": "LayoutModel",
          "model_module_version": "1.2.0",
          "state": {
            "_model_module": "@jupyter-widgets/base",
            "_model_module_version": "1.2.0",
            "_model_name": "LayoutModel",
            "_view_count": null,
            "_view_module": "@jupyter-widgets/base",
            "_view_module_version": "1.2.0",
            "_view_name": "LayoutView",
            "align_content": null,
            "align_items": null,
            "align_self": null,
            "border": null,
            "bottom": null,
            "display": null,
            "flex": null,
            "flex_flow": null,
            "grid_area": null,
            "grid_auto_columns": null,
            "grid_auto_flow": null,
            "grid_auto_rows": null,
            "grid_column": null,
            "grid_gap": null,
            "grid_row": null,
            "grid_template_areas": null,
            "grid_template_columns": null,
            "grid_template_rows": null,
            "height": null,
            "justify_content": null,
            "justify_items": null,
            "left": null,
            "margin": null,
            "max_height": null,
            "max_width": null,
            "min_height": null,
            "min_width": null,
            "object_fit": null,
            "object_position": null,
            "order": null,
            "overflow": null,
            "overflow_x": null,
            "overflow_y": null,
            "padding": null,
            "right": null,
            "top": null,
            "visibility": null,
            "width": null
          }
        },
        "65a8410b452647f2bcbee7daf2137940": {
          "model_module": "@jupyter-widgets/controls",
          "model_name": "DescriptionStyleModel",
          "model_module_version": "1.5.0",
          "state": {
            "_model_module": "@jupyter-widgets/controls",
            "_model_module_version": "1.5.0",
            "_model_name": "DescriptionStyleModel",
            "_view_count": null,
            "_view_module": "@jupyter-widgets/base",
            "_view_module_version": "1.2.0",
            "_view_name": "StyleView",
            "description_width": "initial"
          }
        },
        "d154de1ebdc84e0d925483a3be0b732d": {
          "model_module": "@jupyter-widgets/controls",
          "model_name": "IntTextModel",
          "model_module_version": "1.5.0",
          "state": {
            "_dom_classes": [],
            "_model_module": "@jupyter-widgets/controls",
            "_model_module_version": "1.5.0",
            "_model_name": "IntTextModel",
            "_view_count": null,
            "_view_module": "@jupyter-widgets/controls",
            "_view_module_version": "1.5.0",
            "_view_name": "IntTextView",
            "continuous_update": false,
            "description": "Sp. Defense:",
            "description_tooltip": null,
            "disabled": false,
            "layout": "IPY_MODEL_fb20fce85c8844199576addce171d8e9",
            "step": 1,
            "style": "IPY_MODEL_79e74bf5fdd7479bb9413dade82700ed",
            "value": 100
          }
        },
        "fb20fce85c8844199576addce171d8e9": {
          "model_module": "@jupyter-widgets/base",
          "model_name": "LayoutModel",
          "model_module_version": "1.2.0",
          "state": {
            "_model_module": "@jupyter-widgets/base",
            "_model_module_version": "1.2.0",
            "_model_name": "LayoutModel",
            "_view_count": null,
            "_view_module": "@jupyter-widgets/base",
            "_view_module_version": "1.2.0",
            "_view_name": "LayoutView",
            "align_content": null,
            "align_items": null,
            "align_self": null,
            "border": null,
            "bottom": null,
            "display": null,
            "flex": null,
            "flex_flow": null,
            "grid_area": null,
            "grid_auto_columns": null,
            "grid_auto_flow": null,
            "grid_auto_rows": null,
            "grid_column": null,
            "grid_gap": null,
            "grid_row": null,
            "grid_template_areas": null,
            "grid_template_columns": null,
            "grid_template_rows": null,
            "height": null,
            "justify_content": null,
            "justify_items": null,
            "left": null,
            "margin": null,
            "max_height": null,
            "max_width": null,
            "min_height": null,
            "min_width": null,
            "object_fit": null,
            "object_position": null,
            "order": null,
            "overflow": null,
            "overflow_x": null,
            "overflow_y": null,
            "padding": null,
            "right": null,
            "top": null,
            "visibility": null,
            "width": null
          }
        },
        "79e74bf5fdd7479bb9413dade82700ed": {
          "model_module": "@jupyter-widgets/controls",
          "model_name": "DescriptionStyleModel",
          "model_module_version": "1.5.0",
          "state": {
            "_model_module": "@jupyter-widgets/controls",
            "_model_module_version": "1.5.0",
            "_model_name": "DescriptionStyleModel",
            "_view_count": null,
            "_view_module": "@jupyter-widgets/base",
            "_view_module_version": "1.2.0",
            "_view_name": "StyleView",
            "description_width": "initial"
          }
        },
        "0a282ee60ee04c31ac8154e61c2e05ce": {
          "model_module": "@jupyter-widgets/controls",
          "model_name": "IntTextModel",
          "model_module_version": "1.5.0",
          "state": {
            "_dom_classes": [],
            "_model_module": "@jupyter-widgets/controls",
            "_model_module_version": "1.5.0",
            "_model_name": "IntTextModel",
            "_view_count": null,
            "_view_module": "@jupyter-widgets/controls",
            "_view_module_version": "1.5.0",
            "_view_name": "IntTextView",
            "continuous_update": false,
            "description": "Speed:",
            "description_tooltip": null,
            "disabled": false,
            "layout": "IPY_MODEL_73883a955a554004abbc54afc18453e0",
            "step": 1,
            "style": "IPY_MODEL_1064d23399fd4956947452a419f8094e",
            "value": 100
          }
        },
        "73883a955a554004abbc54afc18453e0": {
          "model_module": "@jupyter-widgets/base",
          "model_name": "LayoutModel",
          "model_module_version": "1.2.0",
          "state": {
            "_model_module": "@jupyter-widgets/base",
            "_model_module_version": "1.2.0",
            "_model_name": "LayoutModel",
            "_view_count": null,
            "_view_module": "@jupyter-widgets/base",
            "_view_module_version": "1.2.0",
            "_view_name": "LayoutView",
            "align_content": null,
            "align_items": null,
            "align_self": null,
            "border": null,
            "bottom": null,
            "display": null,
            "flex": null,
            "flex_flow": null,
            "grid_area": null,
            "grid_auto_columns": null,
            "grid_auto_flow": null,
            "grid_auto_rows": null,
            "grid_column": null,
            "grid_gap": null,
            "grid_row": null,
            "grid_template_areas": null,
            "grid_template_columns": null,
            "grid_template_rows": null,
            "height": null,
            "justify_content": null,
            "justify_items": null,
            "left": null,
            "margin": null,
            "max_height": null,
            "max_width": null,
            "min_height": null,
            "min_width": null,
            "object_fit": null,
            "object_position": null,
            "order": null,
            "overflow": null,
            "overflow_x": null,
            "overflow_y": null,
            "padding": null,
            "right": null,
            "top": null,
            "visibility": null,
            "width": null
          }
        },
        "1064d23399fd4956947452a419f8094e": {
          "model_module": "@jupyter-widgets/controls",
          "model_name": "DescriptionStyleModel",
          "model_module_version": "1.5.0",
          "state": {
            "_model_module": "@jupyter-widgets/controls",
            "_model_module_version": "1.5.0",
            "_model_name": "DescriptionStyleModel",
            "_view_count": null,
            "_view_module": "@jupyter-widgets/base",
            "_view_module_version": "1.2.0",
            "_view_name": "StyleView",
            "description_width": "initial"
          }
        },
        "f1fad72b729d4408bcefdb23cc18cb7b": {
          "model_module": "@jupyter-widgets/controls",
          "model_name": "ButtonModel",
          "model_module_version": "1.5.0",
          "state": {
            "_dom_classes": [],
            "_model_module": "@jupyter-widgets/controls",
            "_model_module_version": "1.5.0",
            "_model_name": "ButtonModel",
            "_view_count": null,
            "_view_module": "@jupyter-widgets/controls",
            "_view_module_version": "1.5.0",
            "_view_name": "ButtonView",
            "button_style": "",
            "description": "Submit Stats",
            "disabled": false,
            "icon": "",
            "layout": "IPY_MODEL_620a152f42634419b38b0fc01797a6f4",
            "style": "IPY_MODEL_b6f04539e8b04a74b927f5548ad8fd57",
            "tooltip": ""
          }
        },
        "620a152f42634419b38b0fc01797a6f4": {
          "model_module": "@jupyter-widgets/base",
          "model_name": "LayoutModel",
          "model_module_version": "1.2.0",
          "state": {
            "_model_module": "@jupyter-widgets/base",
            "_model_module_version": "1.2.0",
            "_model_name": "LayoutModel",
            "_view_count": null,
            "_view_module": "@jupyter-widgets/base",
            "_view_module_version": "1.2.0",
            "_view_name": "LayoutView",
            "align_content": null,
            "align_items": null,
            "align_self": null,
            "border": null,
            "bottom": null,
            "display": null,
            "flex": null,
            "flex_flow": null,
            "grid_area": null,
            "grid_auto_columns": null,
            "grid_auto_flow": null,
            "grid_auto_rows": null,
            "grid_column": null,
            "grid_gap": null,
            "grid_row": null,
            "grid_template_areas": null,
            "grid_template_columns": null,
            "grid_template_rows": null,
            "height": null,
            "justify_content": null,
            "justify_items": null,
            "left": null,
            "margin": null,
            "max_height": null,
            "max_width": null,
            "min_height": null,
            "min_width": null,
            "object_fit": null,
            "object_position": null,
            "order": null,
            "overflow": null,
            "overflow_x": null,
            "overflow_y": null,
            "padding": null,
            "right": null,
            "top": null,
            "visibility": null,
            "width": null
          }
        },
        "b6f04539e8b04a74b927f5548ad8fd57": {
          "model_module": "@jupyter-widgets/controls",
          "model_name": "ButtonStyleModel",
          "model_module_version": "1.5.0",
          "state": {
            "_model_module": "@jupyter-widgets/controls",
            "_model_module_version": "1.5.0",
            "_model_name": "ButtonStyleModel",
            "_view_count": null,
            "_view_module": "@jupyter-widgets/base",
            "_view_module_version": "1.2.0",
            "_view_name": "StyleView",
            "button_color": null,
            "font_weight": ""
          }
        },
        "8e9c451b815648a1812e50deb5a35d05": {
          "model_module": "@jupyter-widgets/output",
          "model_name": "OutputModel",
          "model_module_version": "1.0.0",
          "state": {
            "_dom_classes": [],
            "_model_module": "@jupyter-widgets/output",
            "_model_module_version": "1.0.0",
            "_model_name": "OutputModel",
            "_view_count": null,
            "_view_module": "@jupyter-widgets/output",
            "_view_module_version": "1.0.0",
            "_view_name": "OutputView",
            "layout": "IPY_MODEL_84ea78b73f3f4f4987d03e0de55154fb",
            "msg_id": "",
            "outputs": [
              {
                "output_type": "stream",
                "name": "stdout",
                "text": [
                  "Pokemon: Sylveon\n"
                ]
              },
              {
                "output_type": "display_data",
                "data": {
                  "text/html": "<img src=\"https://img.pokemondb.net/sprites/sword-shield/icon/sylveon.png\" width=\"100\"/>",
                  "text/plain": "<IPython.core.display.Image object>"
                },
                "metadata": {}
              },
              {
                "output_type": "stream",
                "name": "stdout",
                "text": [
                  "\n",
                  "Pokemon Information:\n",
                  "Type 1: Fairy\n",
                  "Type 2: nan\n"
                ]
              },
              {
                "output_type": "display_data",
                "data": {
                  "text/plain": "<Figure size 800x500 with 1 Axes>",
                  "image/png": "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\n"
                },
                "metadata": {}
              },
              {
                "output_type": "stream",
                "name": "stdout",
                "text": [
                  "\n",
                  "Stats:\n",
                  "Hp              95\n",
                  "Attack          65\n",
                  "Defense         65\n",
                  "Sp. Attack     110\n",
                  "Sp. Defense    130\n",
                  "Speed           60\n",
                  "Name: 836, dtype: object\n",
                  "Pokemon: Milotic\n"
                ]
              },
              {
                "output_type": "display_data",
                "data": {
                  "text/html": "<img src=\"https://img.pokemondb.net/sprites/sword-shield/icon/milotic.png\" width=\"100\"/>",
                  "text/plain": "<IPython.core.display.Image object>"
                },
                "metadata": {}
              },
              {
                "output_type": "stream",
                "name": "stdout",
                "text": [
                  "\n",
                  "Pokemon Information:\n",
                  "Type 1: Water\n",
                  "Type 2: nan\n"
                ]
              },
              {
                "output_type": "display_data",
                "data": {
                  "text/plain": "<Figure size 800x500 with 1 Axes>",
                  "image/png": "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\n"
                },
                "metadata": {}
              },
              {
                "output_type": "stream",
                "name": "stdout",
                "text": [
                  "\n",
                  "Stats:\n",
                  "Hp              95\n",
                  "Attack          60\n",
                  "Defense         79\n",
                  "Sp. Attack     100\n",
                  "Sp. Defense    125\n",
                  "Speed           81\n",
                  "Name: 428, dtype: object\n",
                  "Pokemon: Primarina\n"
                ]
              },
              {
                "output_type": "display_data",
                "data": {
                  "text/html": "<img src=\"https://img.pokemondb.net/sprites/sword-shield/icon/primarina.png\" width=\"100\"/>",
                  "text/plain": "<IPython.core.display.Image object>"
                },
                "metadata": {}
              },
              {
                "output_type": "stream",
                "name": "stdout",
                "text": [
                  "\n",
                  "Pokemon Information:\n",
                  "Type 1: Water\n",
                  "Type 2: Fairy\n"
                ]
              },
              {
                "output_type": "display_data",
                "data": {
                  "text/plain": "<Figure size 800x500 with 1 Axes>",
                  "image/png": "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\n"
                },
                "metadata": {}
              },
              {
                "output_type": "stream",
                "name": "stdout",
                "text": [
                  "\n",
                  "Stats:\n",
                  "Hp              80\n",
                  "Attack          74\n",
                  "Defense         74\n",
                  "Sp. Attack     126\n",
                  "Sp. Defense    116\n",
                  "Speed           60\n",
                  "Name: 880, dtype: object\n",
                  "Pokemon: Oranguru\n"
                ]
              },
              {
                "output_type": "display_data",
                "data": {
                  "text/html": "<img src=\"https://img.pokemondb.net/sprites/sword-shield/icon/oranguru.png\" width=\"100\"/>",
                  "text/plain": "<IPython.core.display.Image object>"
                },
                "metadata": {}
              },
              {
                "output_type": "stream",
                "name": "stdout",
                "text": [
                  "\n",
                  "Pokemon Information:\n",
                  "Type 1: Normal\n",
                  "Type 2: Psychic\n"
                ]
              },
              {
                "output_type": "display_data",
                "data": {
                  "text/plain": "<Figure size 800x500 with 1 Axes>",
                  "image/png": "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\n"
                },
                "metadata": {}
              },
              {
                "output_type": "stream",
                "name": "stdout",
                "text": [
                  "\n",
                  "Stats:\n",
                  "Hp              90\n",
                  "Attack          60\n",
                  "Defense         80\n",
                  "Sp. Attack      90\n",
                  "Sp. Defense    110\n",
                  "Speed           60\n",
                  "Name: 922, dtype: object\n",
                  "Pokemon: Florges\n"
                ]
              },
              {
                "output_type": "display_data",
                "data": {
                  "text/html": "<img src=\"https://img.pokemondb.net/sprites/sword-shield/icon/florges.png\" width=\"100\"/>",
                  "text/plain": "<IPython.core.display.Image object>"
                },
                "metadata": {}
              },
              {
                "output_type": "stream",
                "name": "stdout",
                "text": [
                  "\n",
                  "Pokemon Information:\n",
                  "Type 1: Fairy\n",
                  "Type 2: nan\n"
                ]
              },
              {
                "output_type": "display_data",
                "data": {
                  "text/plain": "<Figure size 800x500 with 1 Axes>",
                  "image/png": "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\n"
                },
                "metadata": {}
              },
              {
                "output_type": "stream",
                "name": "stdout",
                "text": [
                  "\n",
                  "Stats:\n",
                  "Hp              78\n",
                  "Attack          65\n",
                  "Defense         68\n",
                  "Sp. Attack     112\n",
                  "Sp. Defense    154\n",
                  "Speed           75\n",
                  "Name: 805, dtype: object\n"
                ]
              }
            ]
          }
        },
        "84ea78b73f3f4f4987d03e0de55154fb": {
          "model_module": "@jupyter-widgets/base",
          "model_name": "LayoutModel",
          "model_module_version": "1.2.0",
          "state": {
            "_model_module": "@jupyter-widgets/base",
            "_model_module_version": "1.2.0",
            "_model_name": "LayoutModel",
            "_view_count": null,
            "_view_module": "@jupyter-widgets/base",
            "_view_module_version": "1.2.0",
            "_view_name": "LayoutView",
            "align_content": null,
            "align_items": null,
            "align_self": null,
            "border": null,
            "bottom": null,
            "display": null,
            "flex": null,
            "flex_flow": null,
            "grid_area": null,
            "grid_auto_columns": null,
            "grid_auto_flow": null,
            "grid_auto_rows": null,
            "grid_column": null,
            "grid_gap": null,
            "grid_row": null,
            "grid_template_areas": null,
            "grid_template_columns": null,
            "grid_template_rows": null,
            "height": null,
            "justify_content": null,
            "justify_items": null,
            "left": null,
            "margin": null,
            "max_height": null,
            "max_width": null,
            "min_height": null,
            "min_width": null,
            "object_fit": null,
            "object_position": null,
            "order": null,
            "overflow": null,
            "overflow_x": null,
            "overflow_y": null,
            "padding": null,
            "right": null,
            "top": null,
            "visibility": null,
            "width": null
          }
        }
      }
    }
  },
  "cells": [
    {
      "cell_type": "code",
      "source": [
        "from google.colab import files\n",
        "import pandas as pd\n",
        "\n",
        "# ipload the CSV file\n",
        "uploaded = files.upload()\n",
        "\n",
        "# load the dataset\n",
        "pokemon_data = pd.read_csv(next(iter(uploaded)))\n",
        "\n",
        "#use pokemon_similarity.csv"
      ],
      "metadata": {
        "colab": {
          "base_uri": "https://localhost:8080/",
          "height": 232
        },
        "id": "CcSCfeJ1ba4J",
        "outputId": "1f0b27b7-9875-4e06-a1ff-17275eaf418f"
      },
      "execution_count": 1,
      "outputs": [
        {
          "output_type": "display_data",
          "data": {
            "text/plain": [
              "<IPython.core.display.HTML object>"
            ],
            "text/html": [
              "\n",
              "     <input type=\"file\" id=\"files-fc933368-ed2d-4b18-a173-1cd96e51da48\" name=\"files[]\" multiple disabled\n",
              "        style=\"border:none\" />\n",
              "     <output id=\"result-fc933368-ed2d-4b18-a173-1cd96e51da48\">\n",
              "      Upload widget is only available when the cell has been executed in the\n",
              "      current browser session. Please rerun this cell to enable.\n",
              "      </output>\n",
              "      <script>// Copyright 2017 Google LLC\n",
              "//\n",
              "// Licensed under the Apache License, Version 2.0 (the \"License\");\n",
              "// you may not use this file except in compliance with the License.\n",
              "// You may obtain a copy of the License at\n",
              "//\n",
              "//      http://www.apache.org/licenses/LICENSE-2.0\n",
              "//\n",
              "// Unless required by applicable law or agreed to in writing, software\n",
              "// distributed under the License is distributed on an \"AS IS\" BASIS,\n",
              "// WITHOUT WARRANTIES OR CONDITIONS OF ANY KIND, either express or implied.\n",
              "// See the License for the specific language governing permissions and\n",
              "// limitations under the License.\n",
              "\n",
              "/**\n",
              " * @fileoverview Helpers for google.colab Python module.\n",
              " */\n",
              "(function(scope) {\n",
              "function span(text, styleAttributes = {}) {\n",
              "  const element = document.createElement('span');\n",
              "  element.textContent = text;\n",
              "  for (const key of Object.keys(styleAttributes)) {\n",
              "    element.style[key] = styleAttributes[key];\n",
              "  }\n",
              "  return element;\n",
              "}\n",
              "\n",
              "// Max number of bytes which will be uploaded at a time.\n",
              "const MAX_PAYLOAD_SIZE = 100 * 1024;\n",
              "\n",
              "function _uploadFiles(inputId, outputId) {\n",
              "  const steps = uploadFilesStep(inputId, outputId);\n",
              "  const outputElement = document.getElementById(outputId);\n",
              "  // Cache steps on the outputElement to make it available for the next call\n",
              "  // to uploadFilesContinue from Python.\n",
              "  outputElement.steps = steps;\n",
              "\n",
              "  return _uploadFilesContinue(outputId);\n",
              "}\n",
              "\n",
              "// This is roughly an async generator (not supported in the browser yet),\n",
              "// where there are multiple asynchronous steps and the Python side is going\n",
              "// to poll for completion of each step.\n",
              "// This uses a Promise to block the python side on completion of each step,\n",
              "// then passes the result of the previous step as the input to the next step.\n",
              "function _uploadFilesContinue(outputId) {\n",
              "  const outputElement = document.getElementById(outputId);\n",
              "  const steps = outputElement.steps;\n",
              "\n",
              "  const next = steps.next(outputElement.lastPromiseValue);\n",
              "  return Promise.resolve(next.value.promise).then((value) => {\n",
              "    // Cache the last promise value to make it available to the next\n",
              "    // step of the generator.\n",
              "    outputElement.lastPromiseValue = value;\n",
              "    return next.value.response;\n",
              "  });\n",
              "}\n",
              "\n",
              "/**\n",
              " * Generator function which is called between each async step of the upload\n",
              " * process.\n",
              " * @param {string} inputId Element ID of the input file picker element.\n",
              " * @param {string} outputId Element ID of the output display.\n",
              " * @return {!Iterable<!Object>} Iterable of next steps.\n",
              " */\n",
              "function* uploadFilesStep(inputId, outputId) {\n",
              "  const inputElement = document.getElementById(inputId);\n",
              "  inputElement.disabled = false;\n",
              "\n",
              "  const outputElement = document.getElementById(outputId);\n",
              "  outputElement.innerHTML = '';\n",
              "\n",
              "  const pickedPromise = new Promise((resolve) => {\n",
              "    inputElement.addEventListener('change', (e) => {\n",
              "      resolve(e.target.files);\n",
              "    });\n",
              "  });\n",
              "\n",
              "  const cancel = document.createElement('button');\n",
              "  inputElement.parentElement.appendChild(cancel);\n",
              "  cancel.textContent = 'Cancel upload';\n",
              "  const cancelPromise = new Promise((resolve) => {\n",
              "    cancel.onclick = () => {\n",
              "      resolve(null);\n",
              "    };\n",
              "  });\n",
              "\n",
              "  // Wait for the user to pick the files.\n",
              "  const files = yield {\n",
              "    promise: Promise.race([pickedPromise, cancelPromise]),\n",
              "    response: {\n",
              "      action: 'starting',\n",
              "    }\n",
              "  };\n",
              "\n",
              "  cancel.remove();\n",
              "\n",
              "  // Disable the input element since further picks are not allowed.\n",
              "  inputElement.disabled = true;\n",
              "\n",
              "  if (!files) {\n",
              "    return {\n",
              "      response: {\n",
              "        action: 'complete',\n",
              "      }\n",
              "    };\n",
              "  }\n",
              "\n",
              "  for (const file of files) {\n",
              "    const li = document.createElement('li');\n",
              "    li.append(span(file.name, {fontWeight: 'bold'}));\n",
              "    li.append(span(\n",
              "        `(${file.type || 'n/a'}) - ${file.size} bytes, ` +\n",
              "        `last modified: ${\n",
              "            file.lastModifiedDate ? file.lastModifiedDate.toLocaleDateString() :\n",
              "                                    'n/a'} - `));\n",
              "    const percent = span('0% done');\n",
              "    li.appendChild(percent);\n",
              "\n",
              "    outputElement.appendChild(li);\n",
              "\n",
              "    const fileDataPromise = new Promise((resolve) => {\n",
              "      const reader = new FileReader();\n",
              "      reader.onload = (e) => {\n",
              "        resolve(e.target.result);\n",
              "      };\n",
              "      reader.readAsArrayBuffer(file);\n",
              "    });\n",
              "    // Wait for the data to be ready.\n",
              "    let fileData = yield {\n",
              "      promise: fileDataPromise,\n",
              "      response: {\n",
              "        action: 'continue',\n",
              "      }\n",
              "    };\n",
              "\n",
              "    // Use a chunked sending to avoid message size limits. See b/62115660.\n",
              "    let position = 0;\n",
              "    do {\n",
              "      const length = Math.min(fileData.byteLength - position, MAX_PAYLOAD_SIZE);\n",
              "      const chunk = new Uint8Array(fileData, position, length);\n",
              "      position += length;\n",
              "\n",
              "      const base64 = btoa(String.fromCharCode.apply(null, chunk));\n",
              "      yield {\n",
              "        response: {\n",
              "          action: 'append',\n",
              "          file: file.name,\n",
              "          data: base64,\n",
              "        },\n",
              "      };\n",
              "\n",
              "      let percentDone = fileData.byteLength === 0 ?\n",
              "          100 :\n",
              "          Math.round((position / fileData.byteLength) * 100);\n",
              "      percent.textContent = `${percentDone}% done`;\n",
              "\n",
              "    } while (position < fileData.byteLength);\n",
              "  }\n",
              "\n",
              "  // All done.\n",
              "  yield {\n",
              "    response: {\n",
              "      action: 'complete',\n",
              "    }\n",
              "  };\n",
              "}\n",
              "\n",
              "scope.google = scope.google || {};\n",
              "scope.google.colab = scope.google.colab || {};\n",
              "scope.google.colab._files = {\n",
              "  _uploadFiles,\n",
              "  _uploadFilesContinue,\n",
              "};\n",
              "})(self);\n",
              "</script> "
            ]
          },
          "metadata": {}
        },
        {
          "output_type": "error",
          "ename": "StopIteration",
          "evalue": "ignored",
          "traceback": [
            "\u001b[0;31m---------------------------------------------------------------------------\u001b[0m",
            "\u001b[0;31mStopIteration\u001b[0m                             Traceback (most recent call last)",
            "\u001b[0;32m<ipython-input-1-d69ae1e267e6>\u001b[0m in \u001b[0;36m<cell line: 8>\u001b[0;34m()\u001b[0m\n\u001b[1;32m      6\u001b[0m \u001b[0;34m\u001b[0m\u001b[0m\n\u001b[1;32m      7\u001b[0m \u001b[0;31m# load the dataset\u001b[0m\u001b[0;34m\u001b[0m\u001b[0;34m\u001b[0m\u001b[0m\n\u001b[0;32m----> 8\u001b[0;31m \u001b[0mpokemon_data\u001b[0m \u001b[0;34m=\u001b[0m \u001b[0mpd\u001b[0m\u001b[0;34m.\u001b[0m\u001b[0mread_csv\u001b[0m\u001b[0;34m(\u001b[0m\u001b[0mnext\u001b[0m\u001b[0;34m(\u001b[0m\u001b[0miter\u001b[0m\u001b[0;34m(\u001b[0m\u001b[0muploaded\u001b[0m\u001b[0;34m)\u001b[0m\u001b[0;34m)\u001b[0m\u001b[0;34m)\u001b[0m\u001b[0;34m\u001b[0m\u001b[0;34m\u001b[0m\u001b[0m\n\u001b[0m",
            "\u001b[0;31mStopIteration\u001b[0m: "
          ]
        }
      ]
    },
    {
      "cell_type": "markdown",
      "source": [
        "This program uses k-Nearest Neighbors (KNN) to find Pokémon with similar base stat distributions based on user input. The KNN model is trained on the base stats of known Pokémon, and users can input either a Pokémon's name or custom stats to find the most similar Pokémon.\n"
      ],
      "metadata": {
        "id": "8xP1C93yAJas"
      }
    },
    {
      "cell_type": "code",
      "source": [
        "#Nearest stat pokemon\n",
        "from google.colab import files\n",
        "import pandas as pd\n",
        "from sklearn.neighbors import NearestNeighbors\n",
        "from sklearn.preprocessing import StandardScaler\n",
        "import ipywidgets as widgets\n",
        "from IPython.display import display, Image\n",
        "import seaborn as sns\n",
        "import matplotlib.pyplot as plt\n",
        "\n",
        "stats_columns = ['Hp', 'Attack', 'Defense', 'Sp_Attack', 'Sp_Defense', 'Speed']\n",
        "X = pokemon_data[stats_columns].values\n",
        "\n",
        "# Normalize data\n",
        "scaler = StandardScaler()\n",
        "X_scaled = scaler.fit_transform(X)\n",
        "\n",
        "# fit a KNN model\n",
        "knn_model = NearestNeighbors(n_neighbors=5, algorithm='auto', metric = 'euclidean')\n",
        "knn_model.fit(X_scaled)\n",
        "\n",
        "# create text input widgets for user input\n",
        "style = {'description_width': 'initial'}\n",
        "pokemon_name_input = widgets.Text(description='Enter Pokemon Name:', style=style)\n",
        "hp_input = widgets.IntText(description='HP:', value=100, style=style)\n",
        "attack_input = widgets.IntText(description='Attack:', value=100, style=style)\n",
        "defense_input = widgets.IntText(description='Defense:', value=100, style=style)\n",
        "sp_attack_input = widgets.IntText(description='Sp. Attack:', value=100, style=style)\n",
        "sp_defense_input = widgets.IntText(description='Sp. Defense:', value=100, style=style)\n",
        "speed_input = widgets.IntText(description='Speed:', value=100, style=style)\n",
        "\n",
        "inputs = [hp_input, attack_input, defense_input, sp_attack_input, sp_defense_input, speed_input]\n",
        "\n",
        "# create Submit buttons\n",
        "submit_pokemon_name_button = widgets.Button(description='Submit Name', style=style)\n",
        "submit_stats_button = widgets.Button(description='Submit Stats', style=style)\n",
        "output = widgets.Output()"
      ],
      "metadata": {
        "id": "NspaEwPAAYKF"
      },
      "execution_count": null,
      "outputs": []
    },
    {
      "cell_type": "markdown",
      "source": [
        "\n",
        "A smaller n_neighbors value would lead to a model with low bias but high variance. The predictions would be influenced by the noise in the data, making the model less robust.\n",
        "A larger n_neighbors value would result in a smoother decision boundary but might introduce bias by oversimplifying the underlying patterns.\n",
        "\n",
        "By chosing odd number for n_neighbors avoids situations where there might be a tie in voting.\n",
        "\n",
        "Pokémon base stats often exhibit diverse patterns, and a moderate n_neighbors value allows for capturing nuanced similarities without being too sensitive to outliers or noise.\n",
        "Empirical Validation:\n",
        "\n",
        "This value provides a good balance between capturing local patterns and generalizing well to unseen data.\n",
        "\n",
        "A smaller n_neighbors value reduces the computational cost of finding neighbors during prediction, which is advantageous, especially in interactive applications."
      ],
      "metadata": {
        "id": "nikGzRyTAaEL"
      }
    },
    {
      "cell_type": "code",
      "source": [
        "# Find closest Pokémon based on user input\n",
        "def find_closest_pokemon(user_stats):\n",
        "    input_stats = [input_widget.value for input_widget in user_stats]\n",
        "    input_scaled = scaler.transform([input_stats])\n",
        "    _, indices = knn_model.kneighbors(input_scaled)\n",
        "    return list(pokemon_data.iloc[indices[0]]['Name'])\n"
      ],
      "metadata": {
        "id": "dEEFE7nfBP4T"
      },
      "execution_count": null,
      "outputs": []
    },
    {
      "cell_type": "markdown",
      "source": [
        " This function is crucial for finding the closest Pokémon based on user input, whether it's a Pokémon's name or custom stats.\n",
        "\n",
        "\n",
        "It extracts the user input stats from the input widgets, representing either the entered Pokémon's base stats or custom stats.\n",
        "The user inputs are collected into input_stats.\n",
        "Scaling Input:\n",
        "\n",
        "The collected stats are scaled using the previously fitted scaler to ensure consistency with the training data.\n",
        "The scaled input is stored in input_scaled.\n",
        "Finding Neighbors:\n",
        "\n",
        "The KNN model is then used to find the nearest neighbors based on the scaled input.\n",
        "\n",
        "The indices of the nearest neighbors are stored in indices.\n",
        "Returning Results:\n",
        "\n",
        "The function returns a list of Pokémon names corresponding to the closest neighbors based on the provided input."
      ],
      "metadata": {
        "id": "KgHyDDW0BSX8"
      }
    },
    {
      "cell_type": "code",
      "source": [
        "\n",
        "#display information for multiple Pokémon\n",
        "def display_multiple_pokemon_info(names):\n",
        "    for name in names:\n",
        "        pokemon_info = pokemon_data[pokemon_data['Name'] == name].iloc[0]\n",
        "\n",
        "        print(f\"Pokemon: {pokemon_info['Name']}\")\n",
        "        display(Image(url=pokemon_info['Sprite URL'], format='png', width=100))\n",
        "\n",
        "        print(\"\\nPokemon Information:\")\n",
        "        print(f\"Type 1: {pokemon_info['Type_1']}\")\n",
        "        print(f\"Type 2: {pokemon_info['Type_2']}\")\n",
        "\n",
        "        stats = pokemon_info[['Hp', 'Attack', 'Defense', 'Sp_Attack', 'Sp_Defense', 'Speed']]\n",
        "        stats.index = ['Hp', 'Attack', 'Defense', 'Sp. Attack', 'Sp. Defense', 'Speed']\n",
        "        plt.figure(figsize=(8, 5))\n",
        "        sns.barplot(x=stats.index, y=stats.values)\n",
        "        plt.title(\"Pokemon Stats\")\n",
        "        plt.xlabel(\"Stat\")\n",
        "        plt.ylabel(\"Value\")\n",
        "        plt.xticks(rotation=45)\n",
        "        plt.show()\n",
        "        print(\"\\nStats:\")\n",
        "        print(stats)\n",
        "\n",
        "# function to handle submitting Pokémon name\n",
        "def on_submit_pokemon_name(b):\n",
        "    with output:\n",
        "        output.clear_output()\n",
        "        entered_name = pokemon_name_input.value.strip()\n",
        "        entered_name = entered_name.capitalize()\n",
        "        pokemon_info = pokemon_data[pokemon_data['Name'] == entered_name]\n",
        "        if not pokemon_info.empty:\n",
        "\n",
        "            # Extract stats for the entered Pokémon name\n",
        "            stats = pokemon_info[stats_columns].values.flatten()\n",
        "            input_scaled = scaler.transform([stats])\n",
        "            _, indices = knn_model.kneighbors(input_scaled)\n",
        "            closest_pokemon = list(pokemon_data.iloc[indices[0]]['Name'])\n",
        "            display_multiple_pokemon_info(closest_pokemon)\n",
        "        else:\n",
        "            print(\"Pokemon not found. Please enter a valid Pokemon name.\")\n",
        "\n",
        "# function to handle submitting custom stats\n",
        "def on_submit_stats(b):\n",
        "    with output:\n",
        "        output.clear_output()\n",
        "        closest_pokemon = find_closest_pokemon(inputs)\n",
        "        display_multiple_pokemon_info(closest_pokemon)\n",
        "\n",
        "submit_pokemon_name_button.on_click(on_submit_pokemon_name)\n",
        "submit_stats_button.on_click(on_submit_stats)\n",
        "\n",
        "# display widgets and output\n",
        "print('Choose One:')\n",
        "display(pokemon_name_input)\n",
        "display(submit_pokemon_name_button)\n",
        "print(\"\\nOr\")\n",
        "display(hp_input, attack_input, defense_input, sp_attack_input, sp_defense_input, speed_input)\n",
        "display(submit_stats_button)\n",
        "display(output)\n"
      ],
      "metadata": {
        "colab": {
          "base_uri": "https://localhost:8080/",
          "height": 1000,
          "referenced_widgets": [
            "084b277565c845d9ad0607586ee14ec0",
            "61888d8f70c44b90a7e64efe82c56317",
            "8e0c0359711a4f379027c404d8e0f159",
            "936f835a2de649a6ada5808c706512cf",
            "adf6a9ba6dde47fda2882c11796935cf",
            "4d7220536ca44bd3bfc09e43a1ffc559",
            "6ee12b32a1c545738cd49e65acc2a90c",
            "25d1b9b7b011480db40f77a2539bc678",
            "a3056ce96d4d49cbb5c5d6fc34fdb18d",
            "61a5813bd16b41afa817cc135cd4cc01",
            "5e5bf913b7c04e68b380b88f68587614",
            "d0ab2a5b1c0546ac8d6eda56b5eb1769",
            "a63d345825a64e43b691f1d3127d8f1c",
            "fa21e029348f479f87e0afaa5e918d57",
            "747c586d62d247a29f4a03845a96c088",
            "40954f11ee2242fdbca53bb384fe9e7d",
            "8ba0e18241ed407281123e4960fb999b",
            "65a8410b452647f2bcbee7daf2137940",
            "d154de1ebdc84e0d925483a3be0b732d",
            "fb20fce85c8844199576addce171d8e9",
            "79e74bf5fdd7479bb9413dade82700ed",
            "0a282ee60ee04c31ac8154e61c2e05ce",
            "73883a955a554004abbc54afc18453e0",
            "1064d23399fd4956947452a419f8094e",
            "f1fad72b729d4408bcefdb23cc18cb7b",
            "620a152f42634419b38b0fc01797a6f4",
            "b6f04539e8b04a74b927f5548ad8fd57",
            "8e9c451b815648a1812e50deb5a35d05",
            "84ea78b73f3f4f4987d03e0de55154fb"
          ]
        },
        "id": "xvfEfgci8HgW",
        "outputId": "2d682ffa-671c-4c05-f584-13d8499fbbcf"
      },
      "execution_count": null,
      "outputs": [
        {
          "output_type": "stream",
          "name": "stdout",
          "text": [
            "Choose One:\n"
          ]
        },
        {
          "output_type": "display_data",
          "data": {
            "text/plain": [
              "Text(value='', description='Enter Pokemon Name:', style=DescriptionStyle(description_width='initial'))"
            ],
            "application/vnd.jupyter.widget-view+json": {
              "version_major": 2,
              "version_minor": 0,
              "model_id": "084b277565c845d9ad0607586ee14ec0"
            }
          },
          "metadata": {}
        },
        {
          "output_type": "display_data",
          "data": {
            "text/plain": [
              "Button(description='Submit Name', style=ButtonStyle())"
            ],
            "application/vnd.jupyter.widget-view+json": {
              "version_major": 2,
              "version_minor": 0,
              "model_id": "936f835a2de649a6ada5808c706512cf"
            }
          },
          "metadata": {}
        },
        {
          "output_type": "stream",
          "name": "stdout",
          "text": [
            "\n",
            "Or\n"
          ]
        },
        {
          "output_type": "display_data",
          "data": {
            "text/plain": [
              "IntText(value=100, description='HP:', style=DescriptionStyle(description_width='initial'))"
            ],
            "application/vnd.jupyter.widget-view+json": {
              "version_major": 2,
              "version_minor": 0,
              "model_id": "6ee12b32a1c545738cd49e65acc2a90c"
            }
          },
          "metadata": {}
        },
        {
          "output_type": "display_data",
          "data": {
            "text/plain": [
              "IntText(value=100, description='Attack:', style=DescriptionStyle(description_width='initial'))"
            ],
            "application/vnd.jupyter.widget-view+json": {
              "version_major": 2,
              "version_minor": 0,
              "model_id": "61a5813bd16b41afa817cc135cd4cc01"
            }
          },
          "metadata": {}
        },
        {
          "output_type": "display_data",
          "data": {
            "text/plain": [
              "IntText(value=100, description='Defense:', style=DescriptionStyle(description_width='initial'))"
            ],
            "application/vnd.jupyter.widget-view+json": {
              "version_major": 2,
              "version_minor": 0,
              "model_id": "a63d345825a64e43b691f1d3127d8f1c"
            }
          },
          "metadata": {}
        },
        {
          "output_type": "display_data",
          "data": {
            "text/plain": [
              "IntText(value=100, description='Sp. Attack:', style=DescriptionStyle(description_width='initial'))"
            ],
            "application/vnd.jupyter.widget-view+json": {
              "version_major": 2,
              "version_minor": 0,
              "model_id": "40954f11ee2242fdbca53bb384fe9e7d"
            }
          },
          "metadata": {}
        },
        {
          "output_type": "display_data",
          "data": {
            "text/plain": [
              "IntText(value=100, description='Sp. Defense:', style=DescriptionStyle(description_width='initial'))"
            ],
            "application/vnd.jupyter.widget-view+json": {
              "version_major": 2,
              "version_minor": 0,
              "model_id": "d154de1ebdc84e0d925483a3be0b732d"
            }
          },
          "metadata": {}
        },
        {
          "output_type": "display_data",
          "data": {
            "text/plain": [
              "IntText(value=100, description='Speed:', style=DescriptionStyle(description_width='initial'))"
            ],
            "application/vnd.jupyter.widget-view+json": {
              "version_major": 2,
              "version_minor": 0,
              "model_id": "0a282ee60ee04c31ac8154e61c2e05ce"
            }
          },
          "metadata": {}
        },
        {
          "output_type": "display_data",
          "data": {
            "text/plain": [
              "Button(description='Submit Stats', style=ButtonStyle())"
            ],
            "application/vnd.jupyter.widget-view+json": {
              "version_major": 2,
              "version_minor": 0,
              "model_id": "f1fad72b729d4408bcefdb23cc18cb7b"
            }
          },
          "metadata": {}
        },
        {
          "output_type": "display_data",
          "data": {
            "text/plain": [
              "Output()"
            ],
            "application/vnd.jupyter.widget-view+json": {
              "version_major": 2,
              "version_minor": 0,
              "model_id": "8e9c451b815648a1812e50deb5a35d05"
            }
          },
          "metadata": {}
        }
      ]
    },
    {
      "cell_type": "markdown",
      "source": [
        "#Pokemon to try\n",
        "# Pikachu\n",
        "# Golem\n",
        "# Togepi\n",
        "# Charizard\n",
        "# Squirtle\n",
        "\n",
        "Explanation: This function displays detailed information for multiple Pokémon, including their name, image, types, and base stats.\n",
        "\n",
        "Looping Through Pokémon:\n",
        "\n",
        "It iterates through the list of Pokémon names returned by the find_closest_pokemon function.\n",
        "Displaying Pokémon Information:\n",
        "\n",
        "For each Pokémon, it prints the Pokémon's name and displays its sprite image.\n",
        "Additionally, it prints the Pokémon's types  and displays a bar plot of its base stats.\n",
        "on_submit_pokemon_name(b) and on_submit_stats(b)\n",
        "These functions handle the logic when a user submits either a Pokémon name or custom stats.\n",
        "\n",
        "on_submit_pokemon_name(b)\n",
        "\n",
        "This function is triggered when the user submits a Pokémon name.\n",
        "It extracts the entered name, retrieves the corresponding Pokémon's base stats, finds the closest Pokémon using the KNN model, and displays detailed information for the closest Pokémon.\n",
        "on_submit_stats(b)\n",
        "\n",
        "This function is triggered when the user submits custom stats.\n",
        "It calls the find_closest_pokemon function to find the closest Pokémon based on the entered custom stats and displays detailed information for the closest Pokémon.\n",
        "Widget Interaction\n",
        "\n",
        "Buttons and Event Handling:\n",
        "\n",
        "The submit_pokemon_name_button and submit_stats_button are buttons that, when clicked, trigger the respective submission functions.\n",
        "Output Display:\n",
        "\n",
        "The output widget is used to display the results and is cleared before updating with new information.\n",
        "Display Widgets\n",
        "User Interaction:\n",
        "\n",
        "The user is presented with input widgets (pokemon_name_input, hp_input, etc.) for entering Pokémon names or custom stats.\n",
        "Button Click Event Handling:\n",
        "\n",
        "The on_click events for the buttons (submit_pokemon_name_button and submit_stats_button) are linked to the respective submission functions.\n",
        "Overall Display:\n",
        "\n",
        "The user is guided to choose between entering a Pokémon name or custom stats, enhancing the interactive and user-friendly nature of the application.\n"
      ],
      "metadata": {
        "id": "HJUCdBh5Bgyd"
      }
    },
    {
      "cell_type": "code",
      "source": [],
      "metadata": {
        "id": "mqFx6sZLqBN1"
      },
      "execution_count": null,
      "outputs": []
    }
  ]
}