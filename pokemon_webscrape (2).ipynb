{
  "nbformat": 4,
  "nbformat_minor": 0,
  "metadata": {
    "colab": {
      "provenance": [],
      "collapsed_sections": [
        "VmKuDLaX40b5",
        "Ge3P427HpeXl",
        "7-6xW2J7A1hu"
      ]
    },
    "kernelspec": {
      "name": "python3",
      "display_name": "Python 3"
    },
    "language_info": {
      "name": "python"
    }
  },
  "cells": [
    {
      "cell_type": "markdown",
      "source": [
        "# Import statements\n"
      ],
      "metadata": {
        "id": "Q98lFO-flPFw"
      }
    },
    {
      "cell_type": "code",
      "execution_count": 2,
      "metadata": {
        "id": "cmB7XYoXe8J8"
      },
      "outputs": [],
      "source": [
        "import requests\n",
        "import csv\n",
        "from bs4 import BeautifulSoup\n",
        "import pandas as pd\n",
        "from google.colab import files"
      ]
    },
    {
      "cell_type": "markdown",
      "source": [
        "# Pokemon Database: pokedex"
      ],
      "metadata": {
        "id": "7pRpA1c_lWqp"
      }
    },
    {
      "cell_type": "code",
      "source": [
        "pokedex_url = requests.get(\"https://pokemondb.net/pokedex/all\")\n",
        "pokedex_soup = BeautifulSoup(pokedex_url.text, 'html.parser')"
      ],
      "metadata": {
        "id": "T54iN8yvfDKQ"
      },
      "execution_count": 2,
      "outputs": []
    },
    {
      "cell_type": "markdown",
      "source": [
        "## Find table element"
      ],
      "metadata": {
        "id": "VmKuDLaX40b5"
      }
    },
    {
      "cell_type": "code",
      "source": [
        "table = pokedex_soup.find('table')"
      ],
      "metadata": {
        "id": "3tABPeaZ4u24"
      },
      "execution_count": 3,
      "outputs": []
    },
    {
      "cell_type": "markdown",
      "source": [
        "## List of all cols and data\n",
        "Approach: I will find all the information in each column and add the columns to a pandas dataframe"
      ],
      "metadata": {
        "id": "Ge3P427HpeXl"
      }
    },
    {
      "cell_type": "code",
      "source": [
        "table_body = table.find('tbody')"
      ],
      "metadata": {
        "id": "ItJn43AYf_82"
      },
      "execution_count": 4,
      "outputs": []
    },
    {
      "cell_type": "markdown",
      "source": [
        "Num list"
      ],
      "metadata": {
        "id": "jfJNSR91uvg4"
      }
    },
    {
      "cell_type": "code",
      "source": [
        "pokemon_numbers_html = table_body.find_all('span', class_='infocard-cell-data')\n",
        "pokemon_numbers = []\n",
        "for num in pokemon_numbers_html:\n",
        "  pokemon_numbers.append(num.contents[0])"
      ],
      "metadata": {
        "id": "iNHbdx8zr8aY"
      },
      "execution_count": 5,
      "outputs": []
    },
    {
      "cell_type": "markdown",
      "source": [
        "Name list"
      ],
      "metadata": {
        "id": "DjQ0borNuyxd"
      }
    },
    {
      "cell_type": "code",
      "source": [
        "pokemon_names_html = table_body.find_all('td', class_='cell-name')\n",
        "pokemon_names = []\n",
        "for data in pokemon_names_html:\n",
        "  if None != data.find('small', class_='text-muted'):\n",
        "    pokemon_names.append(data.find('small', class_='text-muted').contents[0])\n",
        "  else:\n",
        "    pokemon_names.append(data.find('a', class_='ent-name').contents[0])"
      ],
      "metadata": {
        "id": "XG41SWhku0eU"
      },
      "execution_count": 6,
      "outputs": []
    },
    {
      "cell_type": "markdown",
      "source": [
        "Types"
      ],
      "metadata": {
        "id": "dP-7CBaf3kfq"
      }
    },
    {
      "cell_type": "code",
      "source": [
        "pokemon_types_html = table_body.find_all('td', class_='cell-icon')\n",
        "type_1 = []\n",
        "type_2 = []\n",
        "for data in pokemon_types_html:\n",
        "  type_1.append(data.find_all('a', class_='type-icon')[0].contents[0])\n",
        "  try:\n",
        "    type_2.append(data.find_all('a', class_='type-icon')[1].contents[0])\n",
        "  except IndexError:\n",
        "    type_2.append(None)"
      ],
      "metadata": {
        "id": "iVfp07jJzzeP"
      },
      "execution_count": 7,
      "outputs": []
    },
    {
      "cell_type": "markdown",
      "source": [
        "Stats"
      ],
      "metadata": {
        "id": "qeawvpQX7p5Q"
      }
    },
    {
      "cell_type": "code",
      "source": [
        "total_stats = []\n",
        "hp = []\n",
        "attack = []\n",
        "defense = []\n",
        "sp_attack = []\n",
        "sp_defense = []\n",
        "speed = []\n",
        "for row in table_body.find_all('tr'):\n",
        "  row_data = row.find_all('td', class_='cell-num')\n",
        "  total_stats.append(row_data[1].contents[0]) # index 1 becasue the first td element with class_='cell-num' is the pokemon number and total_stats is the 2nd element of row_data\n",
        "  hp.append(row_data[2].contents[0]) # Each following index relates to the stats position in the list row_data\n",
        "  attack.append(row_data[3].contents[0])\n",
        "  defense.append(row_data[4].contents[0])\n",
        "  sp_attack.append(row_data[5].contents[0])\n",
        "  sp_defense.append(row_data[6].contents[0])\n",
        "  speed.append(row_data[7].contents[0])"
      ],
      "metadata": {
        "id": "L-qKG4pK7oAK"
      },
      "execution_count": 8,
      "outputs": []
    },
    {
      "cell_type": "markdown",
      "source": [
        "Images"
      ],
      "metadata": {
        "id": "ESncvidfRUcw"
      }
    },
    {
      "cell_type": "code",
      "source": [
        "pokemon_image_html = table_body.find_all('span', class_='infocard-cell-img')\n",
        "pokemon_sprite_urls = []\n",
        "for img in pokemon_image_html:\n",
        "  pokemon_sprite_urls.append(img.find('img').get('src'))\n"
      ],
      "metadata": {
        "id": "CYfRenUWRUA5"
      },
      "execution_count": 34,
      "outputs": []
    },
    {
      "cell_type": "markdown",
      "source": [
        "## Dataframe Creation"
      ],
      "metadata": {
        "id": "7-6xW2J7A1hu"
      }
    },
    {
      "cell_type": "code",
      "source": [
        "data = {\n",
        "  'Sprite URL' : pokemon_sprite_urls,\n",
        "  'Number' : pokemon_numbers,\n",
        "  'Name': pokemon_names,\n",
        "  'Type_1': type_1,\n",
        "  'Type_2': type_2,\n",
        "  'BST': total_stats,\n",
        "  'Hp': hp,\n",
        "  'Attack': attack,\n",
        "  'Defense': defense,\n",
        "  'Sp_Attack': sp_attack,\n",
        "  'Sp_Defense': sp_defense,\n",
        "  'Speed': speed\n",
        "}\n",
        "\n",
        "pokemon_dataframe = pd.DataFrame(data)"
      ],
      "metadata": {
        "id": "3tlZACFEHDaw"
      },
      "execution_count": 31,
      "outputs": []
    },
    {
      "cell_type": "code",
      "source": [
        "pokemon_dataframe"
      ],
      "metadata": {
        "colab": {
          "base_uri": "https://localhost:8080/",
          "height": 424
        },
        "id": "jjok6Tx8H99C",
        "outputId": "54553865-28e0-495c-e5c7-56c1071a4dfc"
      },
      "execution_count": 32,
      "outputs": [
        {
          "output_type": "execute_result",
          "data": {
            "text/plain": [
              "                                             Sprite URL Number           Name  \\\n",
              "0     https://img.pokemondb.net/sprites/sword-shield...   0001      Bulbasaur   \n",
              "1     https://img.pokemondb.net/sprites/sword-shield...   0002        Ivysaur   \n",
              "2     https://img.pokemondb.net/sprites/sword-shield...   0003       Venusaur   \n",
              "3     https://img.pokemondb.net/sprites/sword-shield...   0003  Mega Venusaur   \n",
              "4     https://img.pokemondb.net/sprites/sword-shield...   0004     Charmander   \n",
              "...                                                 ...    ...            ...   \n",
              "1190  https://img.pokemondb.net/sprites/scarlet-viol...   1006   Iron Valiant   \n",
              "1191  https://img.pokemondb.net/sprites/scarlet-viol...   1007       Koraidon   \n",
              "1192  https://img.pokemondb.net/sprites/scarlet-viol...   1008       Miraidon   \n",
              "1193  https://img.pokemondb.net/sprites/scarlet-viol...   1009   Walking Wake   \n",
              "1194  https://img.pokemondb.net/sprites/scarlet-viol...   1010    Iron Leaves   \n",
              "\n",
              "        Type_1    Type_2  BST   Hp Attack Defense Sp_Attack Sp_Defense Speed  \n",
              "0        Grass    Poison  318   45     49      49        65         65    45  \n",
              "1        Grass    Poison  405   60     62      63        80         80    60  \n",
              "2        Grass    Poison  525   80     82      83       100        100    80  \n",
              "3        Grass    Poison  625   80    100     123       122        120    80  \n",
              "4         Fire      None  309   39     52      43        60         50    65  \n",
              "...        ...       ...  ...  ...    ...     ...       ...        ...   ...  \n",
              "1190     Fairy  Fighting  590   74    130      90       120         60   116  \n",
              "1191  Fighting    Dragon  670  100    135     115        85        100   135  \n",
              "1192  Electric    Dragon  670  100     85     100       135        115   135  \n",
              "1193     Water    Dragon  590   99     83      91       125         83   109  \n",
              "1194     Grass   Psychic  590   90    130      88        70        108   104  \n",
              "\n",
              "[1195 rows x 12 columns]"
            ],
            "text/html": [
              "\n",
              "  <div id=\"df-9cbf5a13-995c-4f62-9c3d-6f210f6218d2\" class=\"colab-df-container\">\n",
              "    <div>\n",
              "<style scoped>\n",
              "    .dataframe tbody tr th:only-of-type {\n",
              "        vertical-align: middle;\n",
              "    }\n",
              "\n",
              "    .dataframe tbody tr th {\n",
              "        vertical-align: top;\n",
              "    }\n",
              "\n",
              "    .dataframe thead th {\n",
              "        text-align: right;\n",
              "    }\n",
              "</style>\n",
              "<table border=\"1\" class=\"dataframe\">\n",
              "  <thead>\n",
              "    <tr style=\"text-align: right;\">\n",
              "      <th></th>\n",
              "      <th>Sprite URL</th>\n",
              "      <th>Number</th>\n",
              "      <th>Name</th>\n",
              "      <th>Type_1</th>\n",
              "      <th>Type_2</th>\n",
              "      <th>BST</th>\n",
              "      <th>Hp</th>\n",
              "      <th>Attack</th>\n",
              "      <th>Defense</th>\n",
              "      <th>Sp_Attack</th>\n",
              "      <th>Sp_Defense</th>\n",
              "      <th>Speed</th>\n",
              "    </tr>\n",
              "  </thead>\n",
              "  <tbody>\n",
              "    <tr>\n",
              "      <th>0</th>\n",
              "      <td>https://img.pokemondb.net/sprites/sword-shield...</td>\n",
              "      <td>0001</td>\n",
              "      <td>Bulbasaur</td>\n",
              "      <td>Grass</td>\n",
              "      <td>Poison</td>\n",
              "      <td>318</td>\n",
              "      <td>45</td>\n",
              "      <td>49</td>\n",
              "      <td>49</td>\n",
              "      <td>65</td>\n",
              "      <td>65</td>\n",
              "      <td>45</td>\n",
              "    </tr>\n",
              "    <tr>\n",
              "      <th>1</th>\n",
              "      <td>https://img.pokemondb.net/sprites/sword-shield...</td>\n",
              "      <td>0002</td>\n",
              "      <td>Ivysaur</td>\n",
              "      <td>Grass</td>\n",
              "      <td>Poison</td>\n",
              "      <td>405</td>\n",
              "      <td>60</td>\n",
              "      <td>62</td>\n",
              "      <td>63</td>\n",
              "      <td>80</td>\n",
              "      <td>80</td>\n",
              "      <td>60</td>\n",
              "    </tr>\n",
              "    <tr>\n",
              "      <th>2</th>\n",
              "      <td>https://img.pokemondb.net/sprites/sword-shield...</td>\n",
              "      <td>0003</td>\n",
              "      <td>Venusaur</td>\n",
              "      <td>Grass</td>\n",
              "      <td>Poison</td>\n",
              "      <td>525</td>\n",
              "      <td>80</td>\n",
              "      <td>82</td>\n",
              "      <td>83</td>\n",
              "      <td>100</td>\n",
              "      <td>100</td>\n",
              "      <td>80</td>\n",
              "    </tr>\n",
              "    <tr>\n",
              "      <th>3</th>\n",
              "      <td>https://img.pokemondb.net/sprites/sword-shield...</td>\n",
              "      <td>0003</td>\n",
              "      <td>Mega Venusaur</td>\n",
              "      <td>Grass</td>\n",
              "      <td>Poison</td>\n",
              "      <td>625</td>\n",
              "      <td>80</td>\n",
              "      <td>100</td>\n",
              "      <td>123</td>\n",
              "      <td>122</td>\n",
              "      <td>120</td>\n",
              "      <td>80</td>\n",
              "    </tr>\n",
              "    <tr>\n",
              "      <th>4</th>\n",
              "      <td>https://img.pokemondb.net/sprites/sword-shield...</td>\n",
              "      <td>0004</td>\n",
              "      <td>Charmander</td>\n",
              "      <td>Fire</td>\n",
              "      <td>None</td>\n",
              "      <td>309</td>\n",
              "      <td>39</td>\n",
              "      <td>52</td>\n",
              "      <td>43</td>\n",
              "      <td>60</td>\n",
              "      <td>50</td>\n",
              "      <td>65</td>\n",
              "    </tr>\n",
              "    <tr>\n",
              "      <th>...</th>\n",
              "      <td>...</td>\n",
              "      <td>...</td>\n",
              "      <td>...</td>\n",
              "      <td>...</td>\n",
              "      <td>...</td>\n",
              "      <td>...</td>\n",
              "      <td>...</td>\n",
              "      <td>...</td>\n",
              "      <td>...</td>\n",
              "      <td>...</td>\n",
              "      <td>...</td>\n",
              "      <td>...</td>\n",
              "    </tr>\n",
              "    <tr>\n",
              "      <th>1190</th>\n",
              "      <td>https://img.pokemondb.net/sprites/scarlet-viol...</td>\n",
              "      <td>1006</td>\n",
              "      <td>Iron Valiant</td>\n",
              "      <td>Fairy</td>\n",
              "      <td>Fighting</td>\n",
              "      <td>590</td>\n",
              "      <td>74</td>\n",
              "      <td>130</td>\n",
              "      <td>90</td>\n",
              "      <td>120</td>\n",
              "      <td>60</td>\n",
              "      <td>116</td>\n",
              "    </tr>\n",
              "    <tr>\n",
              "      <th>1191</th>\n",
              "      <td>https://img.pokemondb.net/sprites/scarlet-viol...</td>\n",
              "      <td>1007</td>\n",
              "      <td>Koraidon</td>\n",
              "      <td>Fighting</td>\n",
              "      <td>Dragon</td>\n",
              "      <td>670</td>\n",
              "      <td>100</td>\n",
              "      <td>135</td>\n",
              "      <td>115</td>\n",
              "      <td>85</td>\n",
              "      <td>100</td>\n",
              "      <td>135</td>\n",
              "    </tr>\n",
              "    <tr>\n",
              "      <th>1192</th>\n",
              "      <td>https://img.pokemondb.net/sprites/scarlet-viol...</td>\n",
              "      <td>1008</td>\n",
              "      <td>Miraidon</td>\n",
              "      <td>Electric</td>\n",
              "      <td>Dragon</td>\n",
              "      <td>670</td>\n",
              "      <td>100</td>\n",
              "      <td>85</td>\n",
              "      <td>100</td>\n",
              "      <td>135</td>\n",
              "      <td>115</td>\n",
              "      <td>135</td>\n",
              "    </tr>\n",
              "    <tr>\n",
              "      <th>1193</th>\n",
              "      <td>https://img.pokemondb.net/sprites/scarlet-viol...</td>\n",
              "      <td>1009</td>\n",
              "      <td>Walking Wake</td>\n",
              "      <td>Water</td>\n",
              "      <td>Dragon</td>\n",
              "      <td>590</td>\n",
              "      <td>99</td>\n",
              "      <td>83</td>\n",
              "      <td>91</td>\n",
              "      <td>125</td>\n",
              "      <td>83</td>\n",
              "      <td>109</td>\n",
              "    </tr>\n",
              "    <tr>\n",
              "      <th>1194</th>\n",
              "      <td>https://img.pokemondb.net/sprites/scarlet-viol...</td>\n",
              "      <td>1010</td>\n",
              "      <td>Iron Leaves</td>\n",
              "      <td>Grass</td>\n",
              "      <td>Psychic</td>\n",
              "      <td>590</td>\n",
              "      <td>90</td>\n",
              "      <td>130</td>\n",
              "      <td>88</td>\n",
              "      <td>70</td>\n",
              "      <td>108</td>\n",
              "      <td>104</td>\n",
              "    </tr>\n",
              "  </tbody>\n",
              "</table>\n",
              "<p>1195 rows × 12 columns</p>\n",
              "</div>\n",
              "    <div class=\"colab-df-buttons\">\n",
              "\n",
              "  <div class=\"colab-df-container\">\n",
              "    <button class=\"colab-df-convert\" onclick=\"convertToInteractive('df-9cbf5a13-995c-4f62-9c3d-6f210f6218d2')\"\n",
              "            title=\"Convert this dataframe to an interactive table.\"\n",
              "            style=\"display:none;\">\n",
              "\n",
              "  <svg xmlns=\"http://www.w3.org/2000/svg\" height=\"24px\" viewBox=\"0 -960 960 960\">\n",
              "    <path d=\"M120-120v-720h720v720H120Zm60-500h600v-160H180v160Zm220 220h160v-160H400v160Zm0 220h160v-160H400v160ZM180-400h160v-160H180v160Zm440 0h160v-160H620v160ZM180-180h160v-160H180v160Zm440 0h160v-160H620v160Z\"/>\n",
              "  </svg>\n",
              "    </button>\n",
              "\n",
              "  <style>\n",
              "    .colab-df-container {\n",
              "      display:flex;\n",
              "      gap: 12px;\n",
              "    }\n",
              "\n",
              "    .colab-df-convert {\n",
              "      background-color: #E8F0FE;\n",
              "      border: none;\n",
              "      border-radius: 50%;\n",
              "      cursor: pointer;\n",
              "      display: none;\n",
              "      fill: #1967D2;\n",
              "      height: 32px;\n",
              "      padding: 0 0 0 0;\n",
              "      width: 32px;\n",
              "    }\n",
              "\n",
              "    .colab-df-convert:hover {\n",
              "      background-color: #E2EBFA;\n",
              "      box-shadow: 0px 1px 2px rgba(60, 64, 67, 0.3), 0px 1px 3px 1px rgba(60, 64, 67, 0.15);\n",
              "      fill: #174EA6;\n",
              "    }\n",
              "\n",
              "    .colab-df-buttons div {\n",
              "      margin-bottom: 4px;\n",
              "    }\n",
              "\n",
              "    [theme=dark] .colab-df-convert {\n",
              "      background-color: #3B4455;\n",
              "      fill: #D2E3FC;\n",
              "    }\n",
              "\n",
              "    [theme=dark] .colab-df-convert:hover {\n",
              "      background-color: #434B5C;\n",
              "      box-shadow: 0px 1px 3px 1px rgba(0, 0, 0, 0.15);\n",
              "      filter: drop-shadow(0px 1px 2px rgba(0, 0, 0, 0.3));\n",
              "      fill: #FFFFFF;\n",
              "    }\n",
              "  </style>\n",
              "\n",
              "    <script>\n",
              "      const buttonEl =\n",
              "        document.querySelector('#df-9cbf5a13-995c-4f62-9c3d-6f210f6218d2 button.colab-df-convert');\n",
              "      buttonEl.style.display =\n",
              "        google.colab.kernel.accessAllowed ? 'block' : 'none';\n",
              "\n",
              "      async function convertToInteractive(key) {\n",
              "        const element = document.querySelector('#df-9cbf5a13-995c-4f62-9c3d-6f210f6218d2');\n",
              "        const dataTable =\n",
              "          await google.colab.kernel.invokeFunction('convertToInteractive',\n",
              "                                                    [key], {});\n",
              "        if (!dataTable) return;\n",
              "\n",
              "        const docLinkHtml = 'Like what you see? Visit the ' +\n",
              "          '<a target=\"_blank\" href=https://colab.research.google.com/notebooks/data_table.ipynb>data table notebook</a>'\n",
              "          + ' to learn more about interactive tables.';\n",
              "        element.innerHTML = '';\n",
              "        dataTable['output_type'] = 'display_data';\n",
              "        await google.colab.output.renderOutput(dataTable, element);\n",
              "        const docLink = document.createElement('div');\n",
              "        docLink.innerHTML = docLinkHtml;\n",
              "        element.appendChild(docLink);\n",
              "      }\n",
              "    </script>\n",
              "  </div>\n",
              "\n",
              "\n",
              "<div id=\"df-d3e0acc4-82da-4b97-a29a-0cc50326b555\">\n",
              "  <button class=\"colab-df-quickchart\" onclick=\"quickchart('df-d3e0acc4-82da-4b97-a29a-0cc50326b555')\"\n",
              "            title=\"Suggest charts\"\n",
              "            style=\"display:none;\">\n",
              "\n",
              "<svg xmlns=\"http://www.w3.org/2000/svg\" height=\"24px\"viewBox=\"0 0 24 24\"\n",
              "     width=\"24px\">\n",
              "    <g>\n",
              "        <path d=\"M19 3H5c-1.1 0-2 .9-2 2v14c0 1.1.9 2 2 2h14c1.1 0 2-.9 2-2V5c0-1.1-.9-2-2-2zM9 17H7v-7h2v7zm4 0h-2V7h2v10zm4 0h-2v-4h2v4z\"/>\n",
              "    </g>\n",
              "</svg>\n",
              "  </button>\n",
              "\n",
              "<style>\n",
              "  .colab-df-quickchart {\n",
              "      --bg-color: #E8F0FE;\n",
              "      --fill-color: #1967D2;\n",
              "      --hover-bg-color: #E2EBFA;\n",
              "      --hover-fill-color: #174EA6;\n",
              "      --disabled-fill-color: #AAA;\n",
              "      --disabled-bg-color: #DDD;\n",
              "  }\n",
              "\n",
              "  [theme=dark] .colab-df-quickchart {\n",
              "      --bg-color: #3B4455;\n",
              "      --fill-color: #D2E3FC;\n",
              "      --hover-bg-color: #434B5C;\n",
              "      --hover-fill-color: #FFFFFF;\n",
              "      --disabled-bg-color: #3B4455;\n",
              "      --disabled-fill-color: #666;\n",
              "  }\n",
              "\n",
              "  .colab-df-quickchart {\n",
              "    background-color: var(--bg-color);\n",
              "    border: none;\n",
              "    border-radius: 50%;\n",
              "    cursor: pointer;\n",
              "    display: none;\n",
              "    fill: var(--fill-color);\n",
              "    height: 32px;\n",
              "    padding: 0;\n",
              "    width: 32px;\n",
              "  }\n",
              "\n",
              "  .colab-df-quickchart:hover {\n",
              "    background-color: var(--hover-bg-color);\n",
              "    box-shadow: 0 1px 2px rgba(60, 64, 67, 0.3), 0 1px 3px 1px rgba(60, 64, 67, 0.15);\n",
              "    fill: var(--button-hover-fill-color);\n",
              "  }\n",
              "\n",
              "  .colab-df-quickchart-complete:disabled,\n",
              "  .colab-df-quickchart-complete:disabled:hover {\n",
              "    background-color: var(--disabled-bg-color);\n",
              "    fill: var(--disabled-fill-color);\n",
              "    box-shadow: none;\n",
              "  }\n",
              "\n",
              "  .colab-df-spinner {\n",
              "    border: 2px solid var(--fill-color);\n",
              "    border-color: transparent;\n",
              "    border-bottom-color: var(--fill-color);\n",
              "    animation:\n",
              "      spin 1s steps(1) infinite;\n",
              "  }\n",
              "\n",
              "  @keyframes spin {\n",
              "    0% {\n",
              "      border-color: transparent;\n",
              "      border-bottom-color: var(--fill-color);\n",
              "      border-left-color: var(--fill-color);\n",
              "    }\n",
              "    20% {\n",
              "      border-color: transparent;\n",
              "      border-left-color: var(--fill-color);\n",
              "      border-top-color: var(--fill-color);\n",
              "    }\n",
              "    30% {\n",
              "      border-color: transparent;\n",
              "      border-left-color: var(--fill-color);\n",
              "      border-top-color: var(--fill-color);\n",
              "      border-right-color: var(--fill-color);\n",
              "    }\n",
              "    40% {\n",
              "      border-color: transparent;\n",
              "      border-right-color: var(--fill-color);\n",
              "      border-top-color: var(--fill-color);\n",
              "    }\n",
              "    60% {\n",
              "      border-color: transparent;\n",
              "      border-right-color: var(--fill-color);\n",
              "    }\n",
              "    80% {\n",
              "      border-color: transparent;\n",
              "      border-right-color: var(--fill-color);\n",
              "      border-bottom-color: var(--fill-color);\n",
              "    }\n",
              "    90% {\n",
              "      border-color: transparent;\n",
              "      border-bottom-color: var(--fill-color);\n",
              "    }\n",
              "  }\n",
              "</style>\n",
              "\n",
              "  <script>\n",
              "    async function quickchart(key) {\n",
              "      const quickchartButtonEl =\n",
              "        document.querySelector('#' + key + ' button');\n",
              "      quickchartButtonEl.disabled = true;  // To prevent multiple clicks.\n",
              "      quickchartButtonEl.classList.add('colab-df-spinner');\n",
              "      try {\n",
              "        const charts = await google.colab.kernel.invokeFunction(\n",
              "            'suggestCharts', [key], {});\n",
              "      } catch (error) {\n",
              "        console.error('Error during call to suggestCharts:', error);\n",
              "      }\n",
              "      quickchartButtonEl.classList.remove('colab-df-spinner');\n",
              "      quickchartButtonEl.classList.add('colab-df-quickchart-complete');\n",
              "    }\n",
              "    (() => {\n",
              "      let quickchartButtonEl =\n",
              "        document.querySelector('#df-d3e0acc4-82da-4b97-a29a-0cc50326b555 button');\n",
              "      quickchartButtonEl.style.display =\n",
              "        google.colab.kernel.accessAllowed ? 'block' : 'none';\n",
              "    })();\n",
              "  </script>\n",
              "</div>\n",
              "    </div>\n",
              "  </div>\n"
            ]
          },
          "metadata": {},
          "execution_count": 32
        }
      ]
    },
    {
      "cell_type": "markdown",
      "source": [
        "## Export data as csv"
      ],
      "metadata": {
        "id": "pHBoL8U2jAzJ"
      }
    },
    {
      "cell_type": "code",
      "source": [
        "pokemon_dataframe.to_csv(\"pokemon_data.csv\")\n",
        "files.download(\"pokemon_data.csv\")"
      ],
      "metadata": {
        "colab": {
          "base_uri": "https://localhost:8080/",
          "height": 17
        },
        "id": "KCJSXX8IPc59",
        "outputId": "0a2a789e-fe15-492d-92d8-e58173c3eb73"
      },
      "execution_count": 33,
      "outputs": [
        {
          "output_type": "display_data",
          "data": {
            "text/plain": [
              "<IPython.core.display.Javascript object>"
            ],
            "application/javascript": [
              "\n",
              "    async function download(id, filename, size) {\n",
              "      if (!google.colab.kernel.accessAllowed) {\n",
              "        return;\n",
              "      }\n",
              "      const div = document.createElement('div');\n",
              "      const label = document.createElement('label');\n",
              "      label.textContent = `Downloading \"${filename}\": `;\n",
              "      div.appendChild(label);\n",
              "      const progress = document.createElement('progress');\n",
              "      progress.max = size;\n",
              "      div.appendChild(progress);\n",
              "      document.body.appendChild(div);\n",
              "\n",
              "      const buffers = [];\n",
              "      let downloaded = 0;\n",
              "\n",
              "      const channel = await google.colab.kernel.comms.open(id);\n",
              "      // Send a message to notify the kernel that we're ready.\n",
              "      channel.send({})\n",
              "\n",
              "      for await (const message of channel.messages) {\n",
              "        // Send a message to notify the kernel that we're ready.\n",
              "        channel.send({})\n",
              "        if (message.buffers) {\n",
              "          for (const buffer of message.buffers) {\n",
              "            buffers.push(buffer);\n",
              "            downloaded += buffer.byteLength;\n",
              "            progress.value = downloaded;\n",
              "          }\n",
              "        }\n",
              "      }\n",
              "      const blob = new Blob(buffers, {type: 'application/binary'});\n",
              "      const a = document.createElement('a');\n",
              "      a.href = window.URL.createObjectURL(blob);\n",
              "      a.download = filename;\n",
              "      div.appendChild(a);\n",
              "      a.click();\n",
              "      div.remove();\n",
              "    }\n",
              "  "
            ]
          },
          "metadata": {}
        },
        {
          "output_type": "display_data",
          "data": {
            "text/plain": [
              "<IPython.core.display.Javascript object>"
            ],
            "application/javascript": [
              "download(\"download_93db3e51-b543-4a47-a5e6-ac14c63654ca\", \"pokemon_data.csv\", 141559)"
            ]
          },
          "metadata": {}
        }
      ]
    },
    {
      "cell_type": "markdown",
      "source": [
        "# Scaping Abilities"
      ],
      "metadata": {
        "id": "-AZFc5SHYheU"
      }
    },
    {
      "cell_type": "code",
      "source": [
        "abilites_url = requests.get('https://pokemondb.net/ability')\n",
        "abilities_soup = BeautifulSoup(abilites_url.text, 'html.parser')"
      ],
      "metadata": {
        "id": "VdOnpwQMe-6d"
      },
      "execution_count": 3,
      "outputs": []
    },
    {
      "cell_type": "markdown",
      "source": [
        "## Abilites to dataframe\n"
      ],
      "metadata": {
        "id": "EmC-9ophfhNx"
      }
    },
    {
      "cell_type": "code",
      "source": [
        "abilities_table = abilities_soup.find('tbody')\n",
        "abilities_table_trs = abilities_table.find_all('tr')\n",
        "abilities_data = {\n",
        "    'Ability name': [],\n",
        "    'Number of Pokemon': [],\n",
        "    'Description': [],\n",
        "    'Generation Introduced': []\n",
        "}\n",
        "for row in abilities_table_trs:\n",
        "  row_data = row.find_all('td')\n",
        "  abilities_data['Ability name'].append(row_data[0].text)\n",
        "  abilities_data['Number of Pokemon'].append(row_data[1].text)\n",
        "  abilities_data['Description'].append(row_data[2].text)\n",
        "  abilities_data['Generation Introduced'].append(row_data[3].text)\n",
        "\n",
        "abilities_df = pd.DataFrame(abilities_data)"
      ],
      "metadata": {
        "id": "CDqqpq-Cfn3B"
      },
      "execution_count": 88,
      "outputs": []
    },
    {
      "cell_type": "markdown",
      "source": [
        "## Export data as CSV"
      ],
      "metadata": {
        "id": "TZSrBJiSjFzN"
      }
    },
    {
      "cell_type": "code",
      "source": [
        "abilities_df.to_csv(\"ablities.csv\")\n",
        "files.download(\"ablities.csv\")"
      ],
      "metadata": {
        "colab": {
          "base_uri": "https://localhost:8080/",
          "height": 17
        },
        "id": "MXh0id9LjIbq",
        "outputId": "83523d2d-323f-4f1e-e3f0-8150d82b7293"
      },
      "execution_count": 89,
      "outputs": [
        {
          "output_type": "display_data",
          "data": {
            "text/plain": [
              "<IPython.core.display.Javascript object>"
            ],
            "application/javascript": [
              "\n",
              "    async function download(id, filename, size) {\n",
              "      if (!google.colab.kernel.accessAllowed) {\n",
              "        return;\n",
              "      }\n",
              "      const div = document.createElement('div');\n",
              "      const label = document.createElement('label');\n",
              "      label.textContent = `Downloading \"${filename}\": `;\n",
              "      div.appendChild(label);\n",
              "      const progress = document.createElement('progress');\n",
              "      progress.max = size;\n",
              "      div.appendChild(progress);\n",
              "      document.body.appendChild(div);\n",
              "\n",
              "      const buffers = [];\n",
              "      let downloaded = 0;\n",
              "\n",
              "      const channel = await google.colab.kernel.comms.open(id);\n",
              "      // Send a message to notify the kernel that we're ready.\n",
              "      channel.send({})\n",
              "\n",
              "      for await (const message of channel.messages) {\n",
              "        // Send a message to notify the kernel that we're ready.\n",
              "        channel.send({})\n",
              "        if (message.buffers) {\n",
              "          for (const buffer of message.buffers) {\n",
              "            buffers.push(buffer);\n",
              "            downloaded += buffer.byteLength;\n",
              "            progress.value = downloaded;\n",
              "          }\n",
              "        }\n",
              "      }\n",
              "      const blob = new Blob(buffers, {type: 'application/binary'});\n",
              "      const a = document.createElement('a');\n",
              "      a.href = window.URL.createObjectURL(blob);\n",
              "      a.download = filename;\n",
              "      div.appendChild(a);\n",
              "      a.click();\n",
              "      div.remove();\n",
              "    }\n",
              "  "
            ]
          },
          "metadata": {}
        },
        {
          "output_type": "display_data",
          "data": {
            "text/plain": [
              "<IPython.core.display.Javascript object>"
            ],
            "application/javascript": [
              "download(\"download_b0c2229e-c8f3-46bc-80ff-b1e96e79c607\", \"ablities.csv\", 19594)"
            ]
          },
          "metadata": {}
        }
      ]
    },
    {
      "cell_type": "markdown",
      "source": [
        "# Scraping Items"
      ],
      "metadata": {
        "id": "e73FsAkCjkWT"
      }
    },
    {
      "cell_type": "code",
      "source": [
        "item_url = requests.get('https://pokemondb.net/item/all')\n",
        "item_soup = BeautifulSoup(item_url.text, 'html.parser')\n"
      ],
      "metadata": {
        "id": "mZ8faXJpjw0s"
      },
      "execution_count": 4,
      "outputs": []
    },
    {
      "cell_type": "markdown",
      "source": [
        "## Items to dataframe"
      ],
      "metadata": {
        "id": "cLcE5r57mZp3"
      }
    },
    {
      "cell_type": "code",
      "source": [
        "item_data = {\n",
        "    \"Name\": [],\n",
        "    \"Category\": [],\n",
        "    \"Effect\": []\n",
        "}\n",
        "item_table = item_soup.find('tbody')\n",
        "item_table_rows = item_table.find_all('tr')\n",
        "for row in item_table_rows:\n",
        "  row_data = row.find_all('td')\n",
        "  item_data[\"Name\"].append((row_data[0].text).strip())\n",
        "  if row_data[1].text == '':\n",
        "    item_data['Category'].append(\"None\")\n",
        "  else:\n",
        "    item_data['Category'].append(row_data[1].text)\n",
        "  item_data[\"Effect\"].append(row_data[2].text)\n",
        "\n",
        "item_dataframe = pd.DataFrame(item_data)\n",
        "item_dataframe"
      ],
      "metadata": {
        "colab": {
          "base_uri": "https://localhost:8080/",
          "height": 424
        },
        "id": "YssiNEmGmWIn",
        "outputId": "7ab512e2-d52b-4ad3-da0e-a383c7d424db"
      },
      "execution_count": 97,
      "outputs": [
        {
          "output_type": "execute_result",
          "data": {
            "text/plain": [
              "                 Name       Category  \\\n",
              "0     Ability Capsule     Hold items   \n",
              "1       Ability Patch  General items   \n",
              "2      Ability Shield           None   \n",
              "3        Ability Urge   Battle items   \n",
              "4           Abomasite     Hold items   \n",
              "...               ...            ...   \n",
              "1439    Zangoose Claw  General items   \n",
              "1440        Zap Plate     Hold items   \n",
              "1441             Zinc       Medicine   \n",
              "1442        Zoom Lens     Hold items   \n",
              "1443        Zorua Fur  General items   \n",
              "\n",
              "                                                 Effect  \n",
              "0     A capsule that allows a Pokémon with two Abili...  \n",
              "1     Changes a Pokémon's ability to its Hidden Abil...  \n",
              "2     An item to be held by a Pokémon. This cute and...  \n",
              "3     When used, it activates the Ability of an ally...  \n",
              "4       Enables Abomasnow to Mega Evolve during battle.  \n",
              "...                                                 ...  \n",
              "1439  Material obtained after defeating/catching Zan...  \n",
              "1440  Increases power of Electric-type moves. Change...  \n",
              "1441               Increases Special Defense EVs by 10.  \n",
              "1442  Raises a move's accuracy if the holder moves a...  \n",
              "1443  Material obtained after defeating/catching Zor...  \n",
              "\n",
              "[1444 rows x 3 columns]"
            ],
            "text/html": [
              "\n",
              "  <div id=\"df-6c4aebea-586a-4099-b901-5593e58b7635\" class=\"colab-df-container\">\n",
              "    <div>\n",
              "<style scoped>\n",
              "    .dataframe tbody tr th:only-of-type {\n",
              "        vertical-align: middle;\n",
              "    }\n",
              "\n",
              "    .dataframe tbody tr th {\n",
              "        vertical-align: top;\n",
              "    }\n",
              "\n",
              "    .dataframe thead th {\n",
              "        text-align: right;\n",
              "    }\n",
              "</style>\n",
              "<table border=\"1\" class=\"dataframe\">\n",
              "  <thead>\n",
              "    <tr style=\"text-align: right;\">\n",
              "      <th></th>\n",
              "      <th>Name</th>\n",
              "      <th>Category</th>\n",
              "      <th>Effect</th>\n",
              "    </tr>\n",
              "  </thead>\n",
              "  <tbody>\n",
              "    <tr>\n",
              "      <th>0</th>\n",
              "      <td>Ability Capsule</td>\n",
              "      <td>Hold items</td>\n",
              "      <td>A capsule that allows a Pokémon with two Abili...</td>\n",
              "    </tr>\n",
              "    <tr>\n",
              "      <th>1</th>\n",
              "      <td>Ability Patch</td>\n",
              "      <td>General items</td>\n",
              "      <td>Changes a Pokémon's ability to its Hidden Abil...</td>\n",
              "    </tr>\n",
              "    <tr>\n",
              "      <th>2</th>\n",
              "      <td>Ability Shield</td>\n",
              "      <td>None</td>\n",
              "      <td>An item to be held by a Pokémon. This cute and...</td>\n",
              "    </tr>\n",
              "    <tr>\n",
              "      <th>3</th>\n",
              "      <td>Ability Urge</td>\n",
              "      <td>Battle items</td>\n",
              "      <td>When used, it activates the Ability of an ally...</td>\n",
              "    </tr>\n",
              "    <tr>\n",
              "      <th>4</th>\n",
              "      <td>Abomasite</td>\n",
              "      <td>Hold items</td>\n",
              "      <td>Enables Abomasnow to Mega Evolve during battle.</td>\n",
              "    </tr>\n",
              "    <tr>\n",
              "      <th>...</th>\n",
              "      <td>...</td>\n",
              "      <td>...</td>\n",
              "      <td>...</td>\n",
              "    </tr>\n",
              "    <tr>\n",
              "      <th>1439</th>\n",
              "      <td>Zangoose Claw</td>\n",
              "      <td>General items</td>\n",
              "      <td>Material obtained after defeating/catching Zan...</td>\n",
              "    </tr>\n",
              "    <tr>\n",
              "      <th>1440</th>\n",
              "      <td>Zap Plate</td>\n",
              "      <td>Hold items</td>\n",
              "      <td>Increases power of Electric-type moves. Change...</td>\n",
              "    </tr>\n",
              "    <tr>\n",
              "      <th>1441</th>\n",
              "      <td>Zinc</td>\n",
              "      <td>Medicine</td>\n",
              "      <td>Increases Special Defense EVs by 10.</td>\n",
              "    </tr>\n",
              "    <tr>\n",
              "      <th>1442</th>\n",
              "      <td>Zoom Lens</td>\n",
              "      <td>Hold items</td>\n",
              "      <td>Raises a move's accuracy if the holder moves a...</td>\n",
              "    </tr>\n",
              "    <tr>\n",
              "      <th>1443</th>\n",
              "      <td>Zorua Fur</td>\n",
              "      <td>General items</td>\n",
              "      <td>Material obtained after defeating/catching Zor...</td>\n",
              "    </tr>\n",
              "  </tbody>\n",
              "</table>\n",
              "<p>1444 rows × 3 columns</p>\n",
              "</div>\n",
              "    <div class=\"colab-df-buttons\">\n",
              "\n",
              "  <div class=\"colab-df-container\">\n",
              "    <button class=\"colab-df-convert\" onclick=\"convertToInteractive('df-6c4aebea-586a-4099-b901-5593e58b7635')\"\n",
              "            title=\"Convert this dataframe to an interactive table.\"\n",
              "            style=\"display:none;\">\n",
              "\n",
              "  <svg xmlns=\"http://www.w3.org/2000/svg\" height=\"24px\" viewBox=\"0 -960 960 960\">\n",
              "    <path d=\"M120-120v-720h720v720H120Zm60-500h600v-160H180v160Zm220 220h160v-160H400v160Zm0 220h160v-160H400v160ZM180-400h160v-160H180v160Zm440 0h160v-160H620v160ZM180-180h160v-160H180v160Zm440 0h160v-160H620v160Z\"/>\n",
              "  </svg>\n",
              "    </button>\n",
              "\n",
              "  <style>\n",
              "    .colab-df-container {\n",
              "      display:flex;\n",
              "      gap: 12px;\n",
              "    }\n",
              "\n",
              "    .colab-df-convert {\n",
              "      background-color: #E8F0FE;\n",
              "      border: none;\n",
              "      border-radius: 50%;\n",
              "      cursor: pointer;\n",
              "      display: none;\n",
              "      fill: #1967D2;\n",
              "      height: 32px;\n",
              "      padding: 0 0 0 0;\n",
              "      width: 32px;\n",
              "    }\n",
              "\n",
              "    .colab-df-convert:hover {\n",
              "      background-color: #E2EBFA;\n",
              "      box-shadow: 0px 1px 2px rgba(60, 64, 67, 0.3), 0px 1px 3px 1px rgba(60, 64, 67, 0.15);\n",
              "      fill: #174EA6;\n",
              "    }\n",
              "\n",
              "    .colab-df-buttons div {\n",
              "      margin-bottom: 4px;\n",
              "    }\n",
              "\n",
              "    [theme=dark] .colab-df-convert {\n",
              "      background-color: #3B4455;\n",
              "      fill: #D2E3FC;\n",
              "    }\n",
              "\n",
              "    [theme=dark] .colab-df-convert:hover {\n",
              "      background-color: #434B5C;\n",
              "      box-shadow: 0px 1px 3px 1px rgba(0, 0, 0, 0.15);\n",
              "      filter: drop-shadow(0px 1px 2px rgba(0, 0, 0, 0.3));\n",
              "      fill: #FFFFFF;\n",
              "    }\n",
              "  </style>\n",
              "\n",
              "    <script>\n",
              "      const buttonEl =\n",
              "        document.querySelector('#df-6c4aebea-586a-4099-b901-5593e58b7635 button.colab-df-convert');\n",
              "      buttonEl.style.display =\n",
              "        google.colab.kernel.accessAllowed ? 'block' : 'none';\n",
              "\n",
              "      async function convertToInteractive(key) {\n",
              "        const element = document.querySelector('#df-6c4aebea-586a-4099-b901-5593e58b7635');\n",
              "        const dataTable =\n",
              "          await google.colab.kernel.invokeFunction('convertToInteractive',\n",
              "                                                    [key], {});\n",
              "        if (!dataTable) return;\n",
              "\n",
              "        const docLinkHtml = 'Like what you see? Visit the ' +\n",
              "          '<a target=\"_blank\" href=https://colab.research.google.com/notebooks/data_table.ipynb>data table notebook</a>'\n",
              "          + ' to learn more about interactive tables.';\n",
              "        element.innerHTML = '';\n",
              "        dataTable['output_type'] = 'display_data';\n",
              "        await google.colab.output.renderOutput(dataTable, element);\n",
              "        const docLink = document.createElement('div');\n",
              "        docLink.innerHTML = docLinkHtml;\n",
              "        element.appendChild(docLink);\n",
              "      }\n",
              "    </script>\n",
              "  </div>\n",
              "\n",
              "\n",
              "<div id=\"df-e56acb9d-ba1b-45ce-9bac-585d62546c45\">\n",
              "  <button class=\"colab-df-quickchart\" onclick=\"quickchart('df-e56acb9d-ba1b-45ce-9bac-585d62546c45')\"\n",
              "            title=\"Suggest charts\"\n",
              "            style=\"display:none;\">\n",
              "\n",
              "<svg xmlns=\"http://www.w3.org/2000/svg\" height=\"24px\"viewBox=\"0 0 24 24\"\n",
              "     width=\"24px\">\n",
              "    <g>\n",
              "        <path d=\"M19 3H5c-1.1 0-2 .9-2 2v14c0 1.1.9 2 2 2h14c1.1 0 2-.9 2-2V5c0-1.1-.9-2-2-2zM9 17H7v-7h2v7zm4 0h-2V7h2v10zm4 0h-2v-4h2v4z\"/>\n",
              "    </g>\n",
              "</svg>\n",
              "  </button>\n",
              "\n",
              "<style>\n",
              "  .colab-df-quickchart {\n",
              "      --bg-color: #E8F0FE;\n",
              "      --fill-color: #1967D2;\n",
              "      --hover-bg-color: #E2EBFA;\n",
              "      --hover-fill-color: #174EA6;\n",
              "      --disabled-fill-color: #AAA;\n",
              "      --disabled-bg-color: #DDD;\n",
              "  }\n",
              "\n",
              "  [theme=dark] .colab-df-quickchart {\n",
              "      --bg-color: #3B4455;\n",
              "      --fill-color: #D2E3FC;\n",
              "      --hover-bg-color: #434B5C;\n",
              "      --hover-fill-color: #FFFFFF;\n",
              "      --disabled-bg-color: #3B4455;\n",
              "      --disabled-fill-color: #666;\n",
              "  }\n",
              "\n",
              "  .colab-df-quickchart {\n",
              "    background-color: var(--bg-color);\n",
              "    border: none;\n",
              "    border-radius: 50%;\n",
              "    cursor: pointer;\n",
              "    display: none;\n",
              "    fill: var(--fill-color);\n",
              "    height: 32px;\n",
              "    padding: 0;\n",
              "    width: 32px;\n",
              "  }\n",
              "\n",
              "  .colab-df-quickchart:hover {\n",
              "    background-color: var(--hover-bg-color);\n",
              "    box-shadow: 0 1px 2px rgba(60, 64, 67, 0.3), 0 1px 3px 1px rgba(60, 64, 67, 0.15);\n",
              "    fill: var(--button-hover-fill-color);\n",
              "  }\n",
              "\n",
              "  .colab-df-quickchart-complete:disabled,\n",
              "  .colab-df-quickchart-complete:disabled:hover {\n",
              "    background-color: var(--disabled-bg-color);\n",
              "    fill: var(--disabled-fill-color);\n",
              "    box-shadow: none;\n",
              "  }\n",
              "\n",
              "  .colab-df-spinner {\n",
              "    border: 2px solid var(--fill-color);\n",
              "    border-color: transparent;\n",
              "    border-bottom-color: var(--fill-color);\n",
              "    animation:\n",
              "      spin 1s steps(1) infinite;\n",
              "  }\n",
              "\n",
              "  @keyframes spin {\n",
              "    0% {\n",
              "      border-color: transparent;\n",
              "      border-bottom-color: var(--fill-color);\n",
              "      border-left-color: var(--fill-color);\n",
              "    }\n",
              "    20% {\n",
              "      border-color: transparent;\n",
              "      border-left-color: var(--fill-color);\n",
              "      border-top-color: var(--fill-color);\n",
              "    }\n",
              "    30% {\n",
              "      border-color: transparent;\n",
              "      border-left-color: var(--fill-color);\n",
              "      border-top-color: var(--fill-color);\n",
              "      border-right-color: var(--fill-color);\n",
              "    }\n",
              "    40% {\n",
              "      border-color: transparent;\n",
              "      border-right-color: var(--fill-color);\n",
              "      border-top-color: var(--fill-color);\n",
              "    }\n",
              "    60% {\n",
              "      border-color: transparent;\n",
              "      border-right-color: var(--fill-color);\n",
              "    }\n",
              "    80% {\n",
              "      border-color: transparent;\n",
              "      border-right-color: var(--fill-color);\n",
              "      border-bottom-color: var(--fill-color);\n",
              "    }\n",
              "    90% {\n",
              "      border-color: transparent;\n",
              "      border-bottom-color: var(--fill-color);\n",
              "    }\n",
              "  }\n",
              "</style>\n",
              "\n",
              "  <script>\n",
              "    async function quickchart(key) {\n",
              "      const quickchartButtonEl =\n",
              "        document.querySelector('#' + key + ' button');\n",
              "      quickchartButtonEl.disabled = true;  // To prevent multiple clicks.\n",
              "      quickchartButtonEl.classList.add('colab-df-spinner');\n",
              "      try {\n",
              "        const charts = await google.colab.kernel.invokeFunction(\n",
              "            'suggestCharts', [key], {});\n",
              "      } catch (error) {\n",
              "        console.error('Error during call to suggestCharts:', error);\n",
              "      }\n",
              "      quickchartButtonEl.classList.remove('colab-df-spinner');\n",
              "      quickchartButtonEl.classList.add('colab-df-quickchart-complete');\n",
              "    }\n",
              "    (() => {\n",
              "      let quickchartButtonEl =\n",
              "        document.querySelector('#df-e56acb9d-ba1b-45ce-9bac-585d62546c45 button');\n",
              "      quickchartButtonEl.style.display =\n",
              "        google.colab.kernel.accessAllowed ? 'block' : 'none';\n",
              "    })();\n",
              "  </script>\n",
              "</div>\n",
              "    </div>\n",
              "  </div>\n"
            ]
          },
          "metadata": {},
          "execution_count": 97
        }
      ]
    },
    {
      "cell_type": "markdown",
      "source": [
        "## Export to CSV"
      ],
      "metadata": {
        "id": "l6rnIln3tTqi"
      }
    },
    {
      "cell_type": "code",
      "source": [
        "item_dataframe.to_csv('pokemon_items.csv')\n",
        "files.download('pokemon_items.csv')\n"
      ],
      "metadata": {
        "colab": {
          "base_uri": "https://localhost:8080/",
          "height": 17
        },
        "id": "Vr4Xi-TSoZH7",
        "outputId": "53c55cc2-cc68-4b8f-df85-15a0bb78327b"
      },
      "execution_count": 98,
      "outputs": [
        {
          "output_type": "display_data",
          "data": {
            "text/plain": [
              "<IPython.core.display.Javascript object>"
            ],
            "application/javascript": [
              "\n",
              "    async function download(id, filename, size) {\n",
              "      if (!google.colab.kernel.accessAllowed) {\n",
              "        return;\n",
              "      }\n",
              "      const div = document.createElement('div');\n",
              "      const label = document.createElement('label');\n",
              "      label.textContent = `Downloading \"${filename}\": `;\n",
              "      div.appendChild(label);\n",
              "      const progress = document.createElement('progress');\n",
              "      progress.max = size;\n",
              "      div.appendChild(progress);\n",
              "      document.body.appendChild(div);\n",
              "\n",
              "      const buffers = [];\n",
              "      let downloaded = 0;\n",
              "\n",
              "      const channel = await google.colab.kernel.comms.open(id);\n",
              "      // Send a message to notify the kernel that we're ready.\n",
              "      channel.send({})\n",
              "\n",
              "      for await (const message of channel.messages) {\n",
              "        // Send a message to notify the kernel that we're ready.\n",
              "        channel.send({})\n",
              "        if (message.buffers) {\n",
              "          for (const buffer of message.buffers) {\n",
              "            buffers.push(buffer);\n",
              "            downloaded += buffer.byteLength;\n",
              "            progress.value = downloaded;\n",
              "          }\n",
              "        }\n",
              "      }\n",
              "      const blob = new Blob(buffers, {type: 'application/binary'});\n",
              "      const a = document.createElement('a');\n",
              "      a.href = window.URL.createObjectURL(blob);\n",
              "      a.download = filename;\n",
              "      div.appendChild(a);\n",
              "      a.click();\n",
              "      div.remove();\n",
              "    }\n",
              "  "
            ]
          },
          "metadata": {}
        },
        {
          "output_type": "display_data",
          "data": {
            "text/plain": [
              "<IPython.core.display.Javascript object>"
            ],
            "application/javascript": [
              "download(\"download_d0e6effd-3b46-423e-a1c8-c43d8c5bda86\", \"pokemon_items.csv\", 132355)"
            ]
          },
          "metadata": {}
        }
      ]
    },
    {
      "cell_type": "markdown",
      "source": [
        "# Scraping Moves"
      ],
      "metadata": {
        "id": "H4p2rneRyDJU"
      }
    },
    {
      "cell_type": "code",
      "source": [
        "moves_url = requests.get('https://pokemondb.net/move/all')\n",
        "move_soup = BeautifulSoup(moves_url.text, 'html.parser')"
      ],
      "metadata": {
        "id": "icwDPjF2yIY_"
      },
      "execution_count": 5,
      "outputs": []
    },
    {
      "cell_type": "markdown",
      "source": [
        "## Moves to Dataframe"
      ],
      "metadata": {
        "id": "sLi2y2k51Zso"
      }
    },
    {
      "cell_type": "code",
      "source": [
        "moves_data = {\n",
        "    \"Name\": [],\n",
        "    \"Type\": [],\n",
        "    \"Category\": [],\n",
        "    \"Power\": [],\n",
        "    \"Accuracy\": [],\n",
        "    \"PP\": [],\n",
        "    \"Effect\": [],\n",
        "    \"Effect Chance\": []\n",
        "}\n",
        "moves_table = move_soup.find('tbody')\n",
        "move_table_rows = moves_table.find_all('tr')\n",
        "\n",
        "for row in move_table_rows:\n",
        "  row_data = row.find_all('td')\n",
        "  moves_data[\"Name\"].append(row_data[0].text)\n",
        "  moves_data[\"Type\"].append(row_data[1].text)\n",
        "  if row_data[2].find('img') == None:\n",
        "    moves_data['Category'].append(\"N\\A\")\n",
        "  else:\n",
        "    moves_data['Category'].append(row_data[2].find('img').get('alt'))\n",
        "  moves_data[\"Power\"].append(row_data[3].text)\n",
        "  moves_data['Accuracy'].append(row_data[4].text)\n",
        "  moves_data['PP'].append(row_data[5].text)\n",
        "  if row_data[6].text == '':\n",
        "    moves_data['Effect'].append('None')\n",
        "  else:\n",
        "    moves_data['Effect'].append(row_data[6].text)\n",
        "  moves_data['Effect Chance'].append(row_data[7].text)\n",
        "\n",
        "moves_dataframe = pd.DataFrame(moves_data)"
      ],
      "metadata": {
        "id": "lGtEHhJl1b5Q"
      },
      "execution_count": 16,
      "outputs": []
    },
    {
      "cell_type": "markdown",
      "source": [
        "## Export to CSV"
      ],
      "metadata": {
        "id": "ui2tTYMUwa69"
      }
    },
    {
      "cell_type": "code",
      "source": [
        "moves_dataframe.to_csv('pokemon_moves.csv')\n",
        "files.download('pokemon_moves.csv')"
      ],
      "metadata": {
        "colab": {
          "base_uri": "https://localhost:8080/",
          "height": 17
        },
        "id": "61UJVEIvwfEl",
        "outputId": "667fab2d-cc29-4c50-ff21-cafe077cf0f5"
      },
      "execution_count": 17,
      "outputs": [
        {
          "output_type": "display_data",
          "data": {
            "text/plain": [
              "<IPython.core.display.Javascript object>"
            ],
            "application/javascript": [
              "\n",
              "    async function download(id, filename, size) {\n",
              "      if (!google.colab.kernel.accessAllowed) {\n",
              "        return;\n",
              "      }\n",
              "      const div = document.createElement('div');\n",
              "      const label = document.createElement('label');\n",
              "      label.textContent = `Downloading \"${filename}\": `;\n",
              "      div.appendChild(label);\n",
              "      const progress = document.createElement('progress');\n",
              "      progress.max = size;\n",
              "      div.appendChild(progress);\n",
              "      document.body.appendChild(div);\n",
              "\n",
              "      const buffers = [];\n",
              "      let downloaded = 0;\n",
              "\n",
              "      const channel = await google.colab.kernel.comms.open(id);\n",
              "      // Send a message to notify the kernel that we're ready.\n",
              "      channel.send({})\n",
              "\n",
              "      for await (const message of channel.messages) {\n",
              "        // Send a message to notify the kernel that we're ready.\n",
              "        channel.send({})\n",
              "        if (message.buffers) {\n",
              "          for (const buffer of message.buffers) {\n",
              "            buffers.push(buffer);\n",
              "            downloaded += buffer.byteLength;\n",
              "            progress.value = downloaded;\n",
              "          }\n",
              "        }\n",
              "      }\n",
              "      const blob = new Blob(buffers, {type: 'application/binary'});\n",
              "      const a = document.createElement('a');\n",
              "      a.href = window.URL.createObjectURL(blob);\n",
              "      a.download = filename;\n",
              "      div.appendChild(a);\n",
              "      a.click();\n",
              "      div.remove();\n",
              "    }\n",
              "  "
            ]
          },
          "metadata": {}
        },
        {
          "output_type": "display_data",
          "data": {
            "text/plain": [
              "<IPython.core.display.Javascript object>"
            ],
            "application/javascript": [
              "download(\"download_f1658a66-0832-4ef3-b552-c8d38c67061b\", \"pokemon_moves.csv\", 78031)"
            ]
          },
          "metadata": {}
        }
      ]
    }
  ]
}